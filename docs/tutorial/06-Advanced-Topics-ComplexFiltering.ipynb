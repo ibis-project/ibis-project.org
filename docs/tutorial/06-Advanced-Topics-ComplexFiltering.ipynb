{
 "cells": [
  {
   "cell_type": "markdown",
   "metadata": {},
   "source": [
    "# Advanced Topics: Additional Filtering\n",
    "\n",
    "The filtering examples we've shown to this point have been pretty simple, either comparisons between columns or fixed values, or set filter functions like `isin` and `notin`. \n",
    "\n",
    "Ibis supports a number of richer analytical filters that can involve one or more of:\n",
    "\n",
    "- Aggregates computed from the same or other tables\n",
    "- Conditional aggregates (in SQL-speak these are similar to \"correlated subqueries\")\n",
    "- \"Existence\" set filters (equivalent to the SQL `EXISTS` and `NOT EXISTS` keywords)"
   ]
  },
  {
   "cell_type": "markdown",
   "metadata": {},
   "source": [
    "## Setup"
   ]
  },
  {
   "cell_type": "code",
   "execution_count": 1,
   "metadata": {
    "execution": {
     "iopub.execute_input": "2022-01-09T13:44:33.772645Z",
     "iopub.status.busy": "2022-01-09T13:44:33.772028Z",
     "iopub.status.idle": "2022-01-09T13:44:34.617879Z",
     "shell.execute_reply": "2022-01-09T13:44:34.618382Z"
    }
   },
   "outputs": [
    {
     "name": "stderr",
     "output_type": "stream",
     "text": [
      "/nix/store/rn4fb6m4f120p8s9i06icnyq9vn0a374-python3-3.9.9-env/lib/python3.9/site-packages/pyproj/__init__.py:91: UserWarning: Valid PROJ data directory not found. Either set the path using the environmental variable PROJ_LIB or with `pyproj.datadir.set_data_dir`.\n",
      "  warnings.warn(str(err))\n"
     ]
    }
   ],
   "source": [
    "import os\n",
    "import ibis\n",
    "\n",
    "ibis.options.interactive = True\n",
    "\n",
    "connection = ibis.sqlite.connect(os.path.join('data', 'geography.db'))"
   ]
  },
  {
   "cell_type": "markdown",
   "metadata": {},
   "source": [
    "## Using scalar aggregates in filters"
   ]
  },
  {
   "cell_type": "code",
   "execution_count": 2,
   "metadata": {
    "execution": {
     "iopub.execute_input": "2022-01-09T13:44:34.623585Z",
     "iopub.status.busy": "2022-01-09T13:44:34.623022Z",
     "iopub.status.idle": "2022-01-09T13:44:34.661350Z",
     "shell.execute_reply": "2022-01-09T13:44:34.661821Z"
    }
   },
   "outputs": [
    {
     "data": {
      "text/plain": [
       "  iso_alpha2 iso_alpha3  iso_numeric fips                  name  \\\n",
       "0         AD        AND           20   AN               Andorra   \n",
       "1         AE        ARE          784   AE  United Arab Emirates   \n",
       "2         AF        AFG            4   AF           Afghanistan   \n",
       "3         AG        ATG           28   AC   Antigua and Barbuda   \n",
       "4         AI        AIA          660   AV              Anguilla   \n",
       "\n",
       "            capital  area_km2  population continent  \n",
       "0  Andorra la Vella     468.0       84000        EU  \n",
       "1         Abu Dhabi   82880.0     4975593        AS  \n",
       "2             Kabul  647500.0    29121286        AS  \n",
       "3         St. Johns     443.0       86754        NA  \n",
       "4        The Valley     102.0       13254        NA  "
      ]
     },
     "execution_count": 2,
     "metadata": {},
     "output_type": "execute_result"
    }
   ],
   "source": [
    "countries = connection.table('countries')\n",
    "countries.limit(5)"
   ]
  },
  {
   "cell_type": "markdown",
   "metadata": {},
   "source": [
    "We could always compute some aggregate value from the table and use that in another expression, or we can use a data-derived aggregate in the filter. Take the average of a column. For example the average of countries size:"
   ]
  },
  {
   "cell_type": "code",
   "execution_count": 3,
   "metadata": {
    "execution": {
     "iopub.execute_input": "2022-01-09T13:44:34.670766Z",
     "iopub.status.busy": "2022-01-09T13:44:34.670178Z",
     "iopub.status.idle": "2022-01-09T13:44:34.680406Z",
     "shell.execute_reply": "2022-01-09T13:44:34.680873Z"
    }
   },
   "outputs": [
    {
     "data": {
      "text/plain": [
       "595287.8555555556"
      ]
     },
     "execution_count": 3,
     "metadata": {},
     "output_type": "execute_result"
    }
   ],
   "source": [
    "countries.area_km2.mean()"
   ]
  },
  {
   "cell_type": "markdown",
   "metadata": {},
   "source": [
    "You can use this expression as a substitute for a scalar value in a filter, and the execution engine will combine everything into a single query rather than having to access the database multiple times. For example, we want to filter European countries larger than the average country size in the world. See how most countries in Europe are smaller than the world average:"
   ]
  },
  {
   "cell_type": "code",
   "execution_count": 4,
   "metadata": {
    "execution": {
     "iopub.execute_input": "2022-01-09T13:44:34.689121Z",
     "iopub.status.busy": "2022-01-09T13:44:34.688623Z",
     "iopub.status.idle": "2022-01-09T13:44:34.707037Z",
     "shell.execute_reply": "2022-01-09T13:44:34.706150Z"
    }
   },
   "outputs": [
    {
     "data": {
      "text/plain": [
       "  iso_alpha2 iso_alpha3  iso_numeric fips     name capital    area_km2  \\\n",
       "0         RU        RUS          643   RS   Russia  Moscow  17100000.0   \n",
       "1         UA        UKR          804   UP  Ukraine    Kyiv    603700.0   \n",
       "\n",
       "   population continent  \n",
       "0   140702000        EU  \n",
       "1    45415596        EU  "
      ]
     },
     "execution_count": 4,
     "metadata": {},
     "output_type": "execute_result"
    }
   ],
   "source": [
    "cond = countries.area_km2 > countries.area_km2.mean()\n",
    "expr = countries[(countries.continent == 'EU') & cond]\n",
    "expr"
   ]
  },
  {
   "cell_type": "markdown",
   "metadata": {},
   "source": [
    "## Conditional aggregates\n",
    "\n",
    "\n",
    "Suppose that we wish to filter using an aggregate computed conditional on some other expressions holding true.\n",
    "\n",
    "For example, we want to filter European countries larger than the average country size, but this time of the average in Africa. African countries have an smaller size compared to the world average, and France gets into the list:"
   ]
  },
  {
   "cell_type": "code",
   "execution_count": 5,
   "metadata": {
    "execution": {
     "iopub.execute_input": "2022-01-09T13:44:34.717858Z",
     "iopub.status.busy": "2022-01-09T13:44:34.717078Z",
     "iopub.status.idle": "2022-01-09T13:44:34.731121Z",
     "shell.execute_reply": "2022-01-09T13:44:34.730276Z"
    }
   },
   "outputs": [
    {
     "data": {
      "text/plain": [
       "  iso_alpha2 iso_alpha3  iso_numeric fips     name capital    area_km2  \\\n",
       "0         FR        FRA          250   FR   France   Paris    547030.0   \n",
       "1         RU        RUS          643   RS   Russia  Moscow  17100000.0   \n",
       "2         UA        UKR          804   UP  Ukraine    Kyiv    603700.0   \n",
       "\n",
       "   population continent  \n",
       "0    64768389        EU  \n",
       "1   140702000        EU  \n",
       "2    45415596        EU  "
      ]
     },
     "execution_count": 5,
     "metadata": {},
     "output_type": "execute_result"
    }
   ],
   "source": [
    "conditional_avg = countries[countries.continent == 'AF'].area_km2.mean()\n",
    "countries[(countries.continent == 'EU') & (countries.area_km2 > conditional_avg)]"
   ]
  },
  {
   "cell_type": "markdown",
   "metadata": {},
   "source": [
    "## \"Existence\" filters\n",
    "\n",
    "\n",
    "Some filtering involves checking for the existence of a particular value in a column of another table, or amount the results of some value expression. This is common in many-to-many relationships, and can be performed in numerous different ways, but it's nice to be able to express it with a single concise statement and let Ibis compute it optimally.\n",
    "\n",
    "An example could be finding all countries that had **any** year with a higher GDP than 3 trillion US dollars:"
   ]
  },
  {
   "cell_type": "code",
   "execution_count": 6,
   "metadata": {
    "execution": {
     "iopub.execute_input": "2022-01-09T13:44:34.735372Z",
     "iopub.status.busy": "2022-01-09T13:44:34.734634Z",
     "iopub.status.idle": "2022-01-09T13:44:34.773087Z",
     "shell.execute_reply": "2022-01-09T13:44:34.772284Z"
    }
   },
   "outputs": [
    {
     "data": {
      "text/plain": [
       "     country_code  year         value\n",
       "0             ABW  1986  4.054634e+08\n",
       "1             ABW  1987  4.876025e+08\n",
       "2             ABW  1988  5.964236e+08\n",
       "3             ABW  1989  6.953044e+08\n",
       "4             ABW  1990  7.648871e+08\n",
       "...           ...   ...           ...\n",
       "9995          SVK  2002  3.513034e+10\n",
       "9996          SVK  2003  4.681659e+10\n",
       "9997          SVK  2004  5.733202e+10\n",
       "9998          SVK  2005  6.278531e+10\n",
       "9999          SVK  2006  7.070810e+10\n",
       "\n",
       "[10000 rows x 3 columns]"
      ]
     },
     "execution_count": 6,
     "metadata": {},
     "output_type": "execute_result"
    }
   ],
   "source": [
    "gdp = connection.table('gdp')\n",
    "gdp"
   ]
  },
  {
   "cell_type": "code",
   "execution_count": 7,
   "metadata": {
    "execution": {
     "iopub.execute_input": "2022-01-09T13:44:34.786655Z",
     "iopub.status.busy": "2022-01-09T13:44:34.786075Z",
     "iopub.status.idle": "2022-01-09T13:44:35.003048Z",
     "shell.execute_reply": "2022-01-09T13:44:35.003936Z"
    }
   },
   "outputs": [
    {
     "data": {
      "text/plain": [
       "0             China\n",
       "1           Germany\n",
       "2    United Kingdom\n",
       "3             Japan\n",
       "4     United States\n",
       "Name: name, dtype: object"
      ]
     },
     "execution_count": 7,
     "metadata": {},
     "output_type": "execute_result"
    }
   ],
   "source": [
    "cond = ((gdp.country_code == countries.iso_alpha3) &\n",
    "        (gdp.value > 3e12)).any()\n",
    "\n",
    "countries[cond]['name']"
   ]
  },
  {
   "cell_type": "markdown",
   "metadata": {},
   "source": [
    "Note how this is different than a join between `countries` and `gdp`, which would return one row per year. The method `.any()` is equivalent to filtering with a subquery."
   ]
  },
  {
   "cell_type": "markdown",
   "metadata": {},
   "source": [
    "## Filtering in aggregations\n",
    "\n",
    "\n",
    "Suppose that you want to compute an aggregation with a subset of the data for _only one_ of the metrics / aggregates in question, and the complete data set with the other aggregates. Most aggregation functions are thus equipped with a `where` argument. Let me show it to you in action:"
   ]
  },
  {
   "cell_type": "code",
   "execution_count": 8,
   "metadata": {
    "execution": {
     "iopub.execute_input": "2022-01-09T13:44:35.016015Z",
     "iopub.status.busy": "2022-01-09T13:44:35.012071Z",
     "iopub.status.idle": "2022-01-09T13:44:35.024614Z",
     "shell.execute_reply": "2022-01-09T13:44:35.024090Z"
    }
   },
   "outputs": [
    {
     "data": {
      "text/plain": [
       "  continent  # countries  total population  population arctic countries\n",
       "0        AF           58        1021238685                          NaN\n",
       "1        AN            5               170                          NaN\n",
       "2        AS           51        4130584841                          NaN\n",
       "3        EU           54         750724554                  161092715.0\n",
       "4        NA           42         540204371                  343968238.0\n",
       "5        OC           28          36067549                          NaN\n",
       "6        SA           14         400143568                          NaN"
      ]
     },
     "execution_count": 8,
     "metadata": {},
     "output_type": "execute_result"
    }
   ],
   "source": [
    "arctic = countries.name.isin(['United States',\n",
    "                              'Canada',\n",
    "                              'Finland',\n",
    "                              'Greenland',\n",
    "                              'Iceland',\n",
    "                              'Norway',\n",
    "                              'Russia',\n",
    "                              'Sweden'])\n",
    "\n",
    "metrics = [countries.count().name('# countries'),\n",
    "           countries.population.sum().name('total population'),\n",
    "           countries.population.sum(where=arctic).name('population arctic countries')]\n",
    "\n",
    "(countries.groupby(countries.continent)\n",
    "          .aggregate(metrics))"
   ]
  }
 ],
 "metadata": {
  "kernelspec": {
   "display_name": "Python 3",
   "language": "python",
   "name": "python3"
  },
  "language_info": {
   "codemirror_mode": {
    "name": "ipython",
    "version": 3
   },
   "file_extension": ".py",
   "mimetype": "text/x-python",
   "name": "python",
   "nbconvert_exporter": "python",
   "pygments_lexer": "ipython3",
   "version": "3.9.9"
  }
 },
 "nbformat": 4,
 "nbformat_minor": 4
}
