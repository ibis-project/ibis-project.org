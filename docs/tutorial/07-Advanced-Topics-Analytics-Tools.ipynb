{
 "cells": [
  {
   "cell_type": "markdown",
   "metadata": {},
   "source": [
    "# Advanced Topics: Analytics Tools"
   ]
  },
  {
   "cell_type": "markdown",
   "metadata": {},
   "source": [
    "## Setup"
   ]
  },
  {
   "cell_type": "code",
   "execution_count": 1,
   "metadata": {
    "execution": {
     "iopub.execute_input": "2022-01-19T23:17:38.144680Z",
     "iopub.status.busy": "2022-01-19T23:17:38.144164Z",
     "iopub.status.idle": "2022-01-19T23:17:38.932110Z",
     "shell.execute_reply": "2022-01-19T23:17:38.932825Z"
    }
   },
   "outputs": [
    {
     "name": "stderr",
     "output_type": "stream",
     "text": [
      "/nix/store/mj4nqqhshvxvfwzn8b1chyqh3c62cy1b-python3-3.9.9-env/lib/python3.9/site-packages/pyproj/__init__.py:91: UserWarning: Valid PROJ data directory not found. Either set the path using the environmental variable PROJ_LIB or with `pyproj.datadir.set_data_dir`.\n",
      "  warnings.warn(str(err))\n"
     ]
    }
   ],
   "source": [
    "import os\n",
    "import ibis\n",
    "\n",
    "ibis.options.interactive = True\n",
    "\n",
    "connection = ibis.sqlite.connect(os.path.join('data', 'geography.db'))"
   ]
  },
  {
   "cell_type": "markdown",
   "metadata": {},
   "source": [
    "## Frequency tables\n",
    "\n",
    "Ibis provides the `value_counts` API, just like pandas, for computing a frequency table for a table column or array expression. You might have seen it used already earlier in the tutorial. "
   ]
  },
  {
   "cell_type": "code",
   "execution_count": 2,
   "metadata": {
    "execution": {
     "iopub.execute_input": "2022-01-19T23:17:38.936542Z",
     "iopub.status.busy": "2022-01-19T23:17:38.935560Z",
     "iopub.status.idle": "2022-01-19T23:17:38.962556Z",
     "shell.execute_reply": "2022-01-19T23:17:38.963608Z"
    }
   },
   "outputs": [
    {
     "data": {
      "text/plain": [
       "  continent  count\n",
       "0        AF     58\n",
       "1        AN      5\n",
       "2        AS     51\n",
       "3        EU     54\n",
       "4        NA     42\n",
       "5        OC     28\n",
       "6        SA     14"
      ]
     },
     "execution_count": 2,
     "metadata": {},
     "output_type": "execute_result"
    }
   ],
   "source": [
    "countries = connection.table('countries')\n",
    "countries.continent.value_counts()"
   ]
  },
  {
   "cell_type": "markdown",
   "metadata": {},
   "source": [
    "This can be customized, of course:"
   ]
  },
  {
   "cell_type": "code",
   "execution_count": 3,
   "metadata": {
    "execution": {
     "iopub.execute_input": "2022-01-19T23:17:38.967224Z",
     "iopub.status.busy": "2022-01-19T23:17:38.966066Z",
     "iopub.status.idle": "2022-01-19T23:17:38.982590Z",
     "shell.execute_reply": "2022-01-19T23:17:38.983303Z"
    }
   },
   "outputs": [
    {
     "data": {
      "text/plain": [
       "  continent  # countries  total population\n",
       "0        AF           58        1021238685\n",
       "1        AN            5               170\n",
       "2        AS           51        4130584841\n",
       "3        EU           54         750724554\n",
       "4        NA           42         540204371\n",
       "5        OC           28          36067549\n",
       "6        SA           14         400143568"
      ]
     },
     "execution_count": 3,
     "metadata": {},
     "output_type": "execute_result"
    }
   ],
   "source": [
    "freq = (countries.group_by(countries.continent)\n",
    "                 .aggregate([countries.count().name('# countries'),\n",
    "                             countries.population.sum().name('total population')]))\n",
    "freq"
   ]
  },
  {
   "cell_type": "markdown",
   "metadata": {},
   "source": [
    "## Binning and histograms\n",
    "\n",
    "\n",
    "Numeric array expressions (columns with numeric type and other array expressions) have `bucket` and `histogram` methods which produce different kinds of binning. These produce category values (the computed bins) that can be used in grouping and other analytics.\n",
    "\n",
    "Some backends implement the `.summary()` method, which can be used to see the general distribution of a column.\n",
    "\n",
    "Let's have a look at a few examples."
   ]
  },
  {
   "cell_type": "markdown",
   "metadata": {},
   "source": [
    "Alright then, now suppose we want to split the countries up into some buckets of our choosing for their population:"
   ]
  },
  {
   "cell_type": "code",
   "execution_count": 4,
   "metadata": {
    "execution": {
     "iopub.execute_input": "2022-01-19T23:17:38.986816Z",
     "iopub.status.busy": "2022-01-19T23:17:38.985810Z",
     "iopub.status.idle": "2022-01-19T23:17:38.990896Z",
     "shell.execute_reply": "2022-01-19T23:17:38.990416Z"
    }
   },
   "outputs": [],
   "source": [
    "buckets = [0, 1e6, 1e7, 1e8, 1e9]"
   ]
  },
  {
   "cell_type": "markdown",
   "metadata": {},
   "source": [
    "The `bucket` function creates a bucketed category from the prices:"
   ]
  },
  {
   "cell_type": "code",
   "execution_count": 5,
   "metadata": {
    "execution": {
     "iopub.execute_input": "2022-01-19T23:17:38.995834Z",
     "iopub.status.busy": "2022-01-19T23:17:38.995322Z",
     "iopub.status.idle": "2022-01-19T23:17:39.000888Z",
     "shell.execute_reply": "2022-01-19T23:17:39.001257Z"
    }
   },
   "outputs": [],
   "source": [
    "bucketed = countries.population.bucket(buckets).name('bucket')"
   ]
  },
  {
   "cell_type": "markdown",
   "metadata": {},
   "source": [
    "Let's have a look at the value counts:"
   ]
  },
  {
   "cell_type": "code",
   "execution_count": 6,
   "metadata": {
    "execution": {
     "iopub.execute_input": "2022-01-19T23:17:39.008992Z",
     "iopub.status.busy": "2022-01-19T23:17:39.008503Z",
     "iopub.status.idle": "2022-01-19T23:17:39.022010Z",
     "shell.execute_reply": "2022-01-19T23:17:39.022620Z"
    }
   },
   "outputs": [
    {
     "data": {
      "text/plain": [
       "  bucket  count\n",
       "0    NaN      2\n",
       "1    0.0     93\n",
       "2    1.0     76\n",
       "3    2.0     72\n",
       "4    3.0      9"
      ]
     },
     "execution_count": 6,
     "metadata": {},
     "output_type": "execute_result"
    }
   ],
   "source": [
    "bucketed.value_counts()"
   ]
  },
  {
   "cell_type": "markdown",
   "metadata": {},
   "source": [
    "The buckets we wrote down define 4 buckets numbered 0 through 3. The `NaN` is a pandas `NULL` value (since that's how pandas represents nulls in numeric arrays), so don't worry too much about that. Since the bucketing ends at 100000, we see there are 4122 values that are over 100000. These can be included in the bucketing with `include_over`:"
   ]
  },
  {
   "cell_type": "code",
   "execution_count": 7,
   "metadata": {
    "execution": {
     "iopub.execute_input": "2022-01-19T23:17:39.027590Z",
     "iopub.status.busy": "2022-01-19T23:17:39.024598Z",
     "iopub.status.idle": "2022-01-19T23:17:39.044322Z",
     "shell.execute_reply": "2022-01-19T23:17:39.043361Z"
    }
   },
   "outputs": [
    {
     "data": {
      "text/plain": [
       "  bucket  count\n",
       "0      0     93\n",
       "1      1     76\n",
       "2      2     72\n",
       "3      3      9\n",
       "4      4      2"
      ]
     },
     "execution_count": 7,
     "metadata": {},
     "output_type": "execute_result"
    }
   ],
   "source": [
    "bucketed = (countries.population\n",
    "            .bucket(buckets, include_over=True)\n",
    "            .name('bucket'))\n",
    "bucketed.value_counts()"
   ]
  },
  {
   "cell_type": "markdown",
   "metadata": {},
   "source": [
    "The `bucketed` object here is a special **_category_** type"
   ]
  },
  {
   "cell_type": "code",
   "execution_count": 8,
   "metadata": {
    "execution": {
     "iopub.execute_input": "2022-01-19T23:17:39.048420Z",
     "iopub.status.busy": "2022-01-19T23:17:39.047939Z",
     "iopub.status.idle": "2022-01-19T23:17:39.054359Z",
     "shell.execute_reply": "2022-01-19T23:17:39.054767Z"
    }
   },
   "outputs": [
    {
     "data": {
      "text/plain": [
       "Category(cardinality=5)"
      ]
     },
     "execution_count": 8,
     "metadata": {},
     "output_type": "execute_result"
    }
   ],
   "source": [
    "bucketed.type()"
   ]
  },
  {
   "cell_type": "markdown",
   "metadata": {},
   "source": [
    "Category values can either have a known or unknown **_cardinality_**. In this case, there's either 4 or 5 buckets based on how we used the `bucket` function.\n",
    "\n",
    "Labels can be assigned to the buckets at any time using the `label` function:"
   ]
  },
  {
   "cell_type": "code",
   "execution_count": 9,
   "metadata": {
    "execution": {
     "iopub.execute_input": "2022-01-19T23:17:39.057873Z",
     "iopub.status.busy": "2022-01-19T23:17:39.056836Z",
     "iopub.status.idle": "2022-01-19T23:17:39.078239Z",
     "shell.execute_reply": "2022-01-19T23:17:39.078617Z"
    }
   },
   "outputs": [
    {
     "data": {
      "text/plain": [
       "  bucket_name bucket  count\n",
       "0        < 1M      0     93\n",
       "1        > 1M      1     76\n",
       "2       > 10M      2     72\n",
       "3      > 100M      3      9\n",
       "4        > 1B      4      2"
      ]
     },
     "execution_count": 9,
     "metadata": {},
     "output_type": "execute_result"
    }
   ],
   "source": [
    "bucket_counts = bucketed.value_counts()\n",
    "\n",
    "labeled_bucket = (bucket_counts.bucket\n",
    "                  .label(['< 1M', '> 1M', '> 10M', '> 100M', '> 1B'])\n",
    "                  .name('bucket_name'))\n",
    "\n",
    "expr = (bucket_counts[labeled_bucket, bucket_counts]\n",
    "        .sort_by('bucket'))\n",
    "expr"
   ]
  },
  {
   "cell_type": "markdown",
   "metadata": {},
   "source": [
    "Nice, huh?\n",
    "\n",
    "Some backends implement `histogram(num_bins)`, a linear (fixed size bin) equivalent."
   ]
  }
 ],
 "metadata": {
  "kernelspec": {
   "display_name": "Python 3",
   "language": "python",
   "name": "python3"
  },
  "language_info": {
   "codemirror_mode": {
    "name": "ipython",
    "version": 3
   },
   "file_extension": ".py",
   "mimetype": "text/x-python",
   "name": "python",
   "nbconvert_exporter": "python",
   "pygments_lexer": "ipython3",
   "version": "3.9.9"
  }
 },
 "nbformat": 4,
 "nbformat_minor": 4
}
