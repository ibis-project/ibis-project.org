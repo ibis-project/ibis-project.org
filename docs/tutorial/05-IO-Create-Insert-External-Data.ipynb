{
 "cells": [
  {
   "cell_type": "markdown",
   "metadata": {},
   "source": [
    "# Creating and inserting data"
   ]
  },
  {
   "cell_type": "markdown",
   "metadata": {},
   "source": [
    "## Setup"
   ]
  },
  {
   "cell_type": "code",
   "execution_count": 1,
   "metadata": {
    "execution": {
     "iopub.execute_input": "2021-12-14T16:15:32.210363Z",
     "iopub.status.busy": "2021-12-14T16:15:32.204688Z",
     "iopub.status.idle": "2021-12-14T16:15:32.906348Z",
     "shell.execute_reply": "2021-12-14T16:15:32.905104Z"
    },
    "scrolled": true
   },
   "outputs": [],
   "source": [
    "import os\n",
    "import ibis\n",
    "\n",
    "ibis.options.interactive = True\n",
    "\n",
    "connection = ibis.sqlite.connect(os.path.join('data', 'geography.db'))"
   ]
  },
  {
   "cell_type": "markdown",
   "metadata": {},
   "source": [
    "## Creating new tables from Ibis expressions\n",
    "\n",
    "\n",
    "Suppose you have an Ibis expression that produces a table:"
   ]
  },
  {
   "cell_type": "code",
   "execution_count": 2,
   "metadata": {
    "execution": {
     "iopub.execute_input": "2021-12-14T16:15:32.912990Z",
     "iopub.status.busy": "2021-12-14T16:15:32.912360Z",
     "iopub.status.idle": "2021-12-14T16:15:32.944039Z",
     "shell.execute_reply": "2021-12-14T16:15:32.944850Z"
    }
   },
   "outputs": [
    {
     "data": {
      "text/plain": [
       "  continent continent_name\n",
       "0        EU         Europe\n",
       "1        AS           Asia\n",
       "2        NA  North America\n",
       "3        AF         Africa\n",
       "4        AN     Antarctica\n",
       "5        SA  South America\n",
       "6        OC        Oceania"
      ]
     },
     "execution_count": 2,
     "metadata": {},
     "output_type": "execute_result"
    }
   ],
   "source": [
    "countries = connection.table('countries')\n",
    "\n",
    "continent_name = (countries.continent\n",
    "                           .case()\n",
    "                           .when('AF', 'Africa')\n",
    "                           .when('AN', 'Antarctica')\n",
    "                           .when('AS', 'Asia')\n",
    "                           .when('EU', 'Europe')\n",
    "                           .when('NA', 'North America')\n",
    "                           .when('OC', 'Oceania')\n",
    "                           .when('SA', 'South America')\n",
    "                           .else_(countries.continent)\n",
    "                           .end()\n",
    "                           .name('continent_name'))\n",
    "\n",
    "expr = countries[countries.continent, continent_name].distinct()\n",
    "expr"
   ]
  },
  {
   "cell_type": "markdown",
   "metadata": {},
   "source": [
    "To create a table in the database from the results of this expression, use the connection's `create_table` method:"
   ]
  },
  {
   "cell_type": "code",
   "execution_count": 3,
   "metadata": {
    "execution": {
     "iopub.execute_input": "2021-12-14T16:15:32.950406Z",
     "iopub.status.busy": "2021-12-14T16:15:32.949064Z",
     "iopub.status.idle": "2021-12-14T16:15:32.960219Z",
     "shell.execute_reply": "2021-12-14T16:15:32.959820Z"
    }
   },
   "outputs": [],
   "source": [
    "connection.create_table('continents', expr)"
   ]
  },
  {
   "cell_type": "code",
   "execution_count": 4,
   "metadata": {
    "execution": {
     "iopub.execute_input": "2021-12-14T16:15:32.964881Z",
     "iopub.status.busy": "2021-12-14T16:15:32.964384Z",
     "iopub.status.idle": "2021-12-14T16:15:32.969622Z",
     "shell.execute_reply": "2021-12-14T16:15:32.970024Z"
    }
   },
   "outputs": [
    {
     "data": {
      "text/plain": [
       "  continent continent_name\n",
       "0        EU         Europe\n",
       "1        AS           Asia\n",
       "2        NA  North America\n",
       "3        AF         Africa\n",
       "4        AN     Antarctica\n",
       "5        SA  South America\n",
       "6        OC        Oceania"
      ]
     },
     "execution_count": 4,
     "metadata": {},
     "output_type": "execute_result"
    }
   ],
   "source": [
    "continents = connection.table('continents')\n",
    "continents"
   ]
  },
  {
   "cell_type": "markdown",
   "metadata": {},
   "source": [
    "Tables can be similarly dropped with `drop_table`"
   ]
  },
  {
   "cell_type": "code",
   "execution_count": 5,
   "metadata": {
    "execution": {
     "iopub.execute_input": "2021-12-14T16:15:32.973643Z",
     "iopub.status.busy": "2021-12-14T16:15:32.973045Z",
     "iopub.status.idle": "2021-12-14T16:15:32.978401Z",
     "shell.execute_reply": "2021-12-14T16:15:32.977906Z"
    }
   },
   "outputs": [],
   "source": [
    "connection.drop_table('continents')"
   ]
  },
  {
   "cell_type": "markdown",
   "metadata": {},
   "source": [
    "## Inserting data into existing tables\n",
    "\n",
    "\n",
    "Some backends support inserting data into existing tables from expressions. This can be done using `connection.insert('table_name', expr)`."
   ]
  }
 ],
 "metadata": {
  "kernelspec": {
   "display_name": "Python 3",
   "language": "python",
   "name": "python3"
  },
  "language_info": {
   "codemirror_mode": {
    "name": "ipython",
    "version": 3
   },
   "file_extension": ".py",
   "mimetype": "text/x-python",
   "name": "python",
   "nbconvert_exporter": "python",
   "pygments_lexer": "ipython3",
   "version": "3.9.9"
  }
 },
 "nbformat": 4,
 "nbformat_minor": 4
}
