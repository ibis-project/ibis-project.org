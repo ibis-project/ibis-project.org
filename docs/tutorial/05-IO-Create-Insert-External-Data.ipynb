{
 "cells": [
  {
   "cell_type": "markdown",
   "metadata": {},
   "source": [
    "# Creating and inserting data"
   ]
  },
  {
   "cell_type": "markdown",
   "metadata": {},
   "source": [
    "## Setup"
   ]
  },
  {
   "cell_type": "code",
   "execution_count": 1,
   "metadata": {
    "execution": {
     "iopub.execute_input": "2021-10-07T17:57:24.769387Z",
     "iopub.status.busy": "2021-10-07T17:57:24.768916Z",
     "iopub.status.idle": "2021-10-07T17:57:25.448680Z",
     "shell.execute_reply": "2021-10-07T17:57:25.448102Z"
    },
    "scrolled": true
   },
   "outputs": [],
   "source": [
    "import os\n",
    "import ibis\n",
    "\n",
    "ibis.options.interactive = True\n",
    "\n",
    "connection = ibis.sqlite.connect(os.path.join('data', 'geography.db'))"
   ]
  },
  {
   "cell_type": "markdown",
   "metadata": {},
   "source": [
    "## Creating new tables from Ibis expressions\n",
    "\n",
    "\n",
    "Suppose you have an Ibis expression that produces a table:"
   ]
  },
  {
   "cell_type": "code",
   "execution_count": 2,
   "metadata": {
    "execution": {
     "iopub.execute_input": "2021-10-07T17:57:25.454093Z",
     "iopub.status.busy": "2021-10-07T17:57:25.453643Z",
     "iopub.status.idle": "2021-10-07T17:57:25.481560Z",
     "shell.execute_reply": "2021-10-07T17:57:25.481151Z"
    }
   },
   "outputs": [
    {
     "data": {
      "text/plain": [
       "  continent continent_name\n",
       "0        EU         Europe\n",
       "1        AS           Asia\n",
       "2        NA  North America\n",
       "3        AF         Africa\n",
       "4        AN     Antarctica\n",
       "5        SA  South America\n",
       "6        OC        Oceania"
      ]
     },
     "execution_count": 2,
     "metadata": {},
     "output_type": "execute_result"
    }
   ],
   "source": [
    "countries = connection.table('countries')\n",
    "\n",
    "continent_name = (countries.continent\n",
    "                           .case()\n",
    "                           .when('AF', 'Africa')\n",
    "                           .when('AN', 'Antarctica')\n",
    "                           .when('AS', 'Asia')\n",
    "                           .when('EU', 'Europe')\n",
    "                           .when('NA', 'North America')\n",
    "                           .when('OC', 'Oceania')\n",
    "                           .when('SA', 'South America')\n",
    "                           .else_(countries.continent)\n",
    "                           .end()\n",
    "                           .name('continent_name'))\n",
    "\n",
    "expr = countries[countries.continent, continent_name].distinct()\n",
    "expr"
   ]
  },
  {
   "cell_type": "markdown",
   "metadata": {},
   "source": [
    "To create a table in the database from the results of this expression, use the connection's `create_table` method:"
   ]
  },
  {
   "cell_type": "code",
   "execution_count": 3,
   "metadata": {
    "execution": {
     "iopub.execute_input": "2021-10-07T17:57:25.485873Z",
     "iopub.status.busy": "2021-10-07T17:57:25.485440Z",
     "iopub.status.idle": "2021-10-07T17:57:25.498501Z",
     "shell.execute_reply": "2021-10-07T17:57:25.498847Z"
    }
   },
   "outputs": [],
   "source": [
    "connection.create_table('continents', expr)"
   ]
  },
  {
   "cell_type": "code",
   "execution_count": 4,
   "metadata": {
    "execution": {
     "iopub.execute_input": "2021-10-07T17:57:25.506319Z",
     "iopub.status.busy": "2021-10-07T17:57:25.503370Z",
     "iopub.status.idle": "2021-10-07T17:57:25.510591Z",
     "shell.execute_reply": "2021-10-07T17:57:25.510221Z"
    }
   },
   "outputs": [
    {
     "data": {
      "text/plain": [
       "  continent continent_name\n",
       "0        EU         Europe\n",
       "1        AS           Asia\n",
       "2        NA  North America\n",
       "3        AF         Africa\n",
       "4        AN     Antarctica\n",
       "5        SA  South America\n",
       "6        OC        Oceania"
      ]
     },
     "execution_count": 4,
     "metadata": {},
     "output_type": "execute_result"
    }
   ],
   "source": [
    "continents = connection.table('continents')\n",
    "continents"
   ]
  },
  {
   "cell_type": "markdown",
   "metadata": {},
   "source": [
    "Tables can be similarly dropped with `drop_table`"
   ]
  },
  {
   "cell_type": "code",
   "execution_count": 5,
   "metadata": {
    "execution": {
     "iopub.execute_input": "2021-10-07T17:57:25.514079Z",
     "iopub.status.busy": "2021-10-07T17:57:25.513664Z",
     "iopub.status.idle": "2021-10-07T17:57:25.517611Z",
     "shell.execute_reply": "2021-10-07T17:57:25.517243Z"
    }
   },
   "outputs": [],
   "source": [
    "connection.drop_table('continents')"
   ]
  },
  {
   "cell_type": "markdown",
   "metadata": {},
   "source": [
    "## Inserting data into existing tables\n",
    "\n",
    "\n",
    "Some backends support inserting data into existing tables from expressions. This can be done using `connection.insert('table_name', expr)`."
   ]
  }
 ],
 "metadata": {
  "kernelspec": {
   "display_name": "Python 3",
   "language": "python",
   "name": "python3"
  },
  "language_info": {
   "codemirror_mode": {
    "name": "ipython",
    "version": 3
   },
   "file_extension": ".py",
   "mimetype": "text/x-python",
   "name": "python",
   "nbconvert_exporter": "python",
   "pygments_lexer": "ipython3",
   "version": "3.8.12"
  }
 },
 "nbformat": 4,
 "nbformat_minor": 4
}
