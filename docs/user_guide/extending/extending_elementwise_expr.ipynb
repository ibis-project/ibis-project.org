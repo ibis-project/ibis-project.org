{
 "cells": [
  {
   "cell_type": "markdown",
   "metadata": {},
   "source": [
    "# Extending Ibis Part 1: Adding a New Elementwise Expression"
   ]
  },
  {
   "cell_type": "markdown",
   "metadata": {},
   "source": [
    "This notebook will show you how to add a new elementwise operation to an existing backend.\n",
    "\n",
    "We are going to add `julianday`, a function supported by the SQLite database, to the SQLite Ibis backend.\n",
    "\n",
    "The Julian day of a date, is the number of days since January 1st, 4713 BC. For more information check the [Julian day](https://en.wikipedia.org/wiki/Julian_day) wikipedia page."
   ]
  },
  {
   "cell_type": "markdown",
   "metadata": {},
   "source": [
    "## Step 1: Define the Operation"
   ]
  },
  {
   "cell_type": "markdown",
   "metadata": {},
   "source": [
    "Let's define the `julianday` operation as a function that takes one string input argument and returns a float.\n",
    "\n",
    "```python\n",
    "def julianday(date: str) -> float:\n",
    "    \"\"\"Julian date\"\"\"\n",
    "```"
   ]
  },
  {
   "cell_type": "code",
   "execution_count": 1,
   "metadata": {
    "execution": {
     "iopub.execute_input": "2021-12-17T14:26:55.068346Z",
     "iopub.status.busy": "2021-12-17T14:26:55.067605Z",
     "iopub.status.idle": "2021-12-17T14:26:55.534178Z",
     "shell.execute_reply": "2021-12-17T14:26:55.533552Z"
    }
   },
   "outputs": [],
   "source": [
    "import ibis.expr.datatypes as dt\n",
    "import ibis.expr.rules as rlz\n",
    "\n",
    "from ibis.expr.operations import ValueOp\n",
    "from ibis.expr.signature import Argument as Arg\n",
    "\n",
    "\n",
    "class JulianDay(ValueOp):\n",
    "    arg = Arg(rlz.string)\n",
    "    output_type = rlz.shape_like('arg', 'float')"
   ]
  },
  {
   "cell_type": "markdown",
   "metadata": {},
   "source": [
    "We just defined a `JulianDay` class that takes one argument of type string or binary, and returns a float."
   ]
  },
  {
   "cell_type": "markdown",
   "metadata": {},
   "source": [
    "## Step 2: Define the API"
   ]
  },
  {
   "cell_type": "markdown",
   "metadata": {},
   "source": [
    "Because we know the output type of the operation, to make an expression out of ``JulianDay`` we simply need to construct it and call its `ibis.expr.types.Node.to_expr` method.\n",
    "\n",
    "We still need to add a method to `StringValue` and `BinaryValue` (this needs to work on both scalars and columns).\n",
    "\n",
    "When you add a method to any of the expression classes whose name matches `*Value` both the scalar and column child classes will pick it up, making it easy to define operations for both scalars and columns in one place.\n",
    "\n",
    "We can do this by defining a function and assigning it to the appropriate class\n",
    "of expressions.\n"
   ]
  },
  {
   "cell_type": "code",
   "execution_count": 2,
   "metadata": {
    "execution": {
     "iopub.execute_input": "2021-12-17T14:26:55.538732Z",
     "iopub.status.busy": "2021-12-17T14:26:55.538156Z",
     "iopub.status.idle": "2021-12-17T14:26:55.541299Z",
     "shell.execute_reply": "2021-12-17T14:26:55.541694Z"
    }
   },
   "outputs": [],
   "source": [
    "from ibis.expr.types import StringValue, BinaryValue\n",
    "\n",
    "\n",
    "def julianday(string_value):\n",
    "    return JulianDay(string_value).to_expr()\n",
    "\n",
    "\n",
    "StringValue.julianday = julianday"
   ]
  },
  {
   "cell_type": "markdown",
   "metadata": {},
   "source": [
    "## Interlude: Create some expressions with `sha1`"
   ]
  },
  {
   "cell_type": "code",
   "execution_count": 3,
   "metadata": {
    "execution": {
     "iopub.execute_input": "2021-12-17T14:26:55.557401Z",
     "iopub.status.busy": "2021-12-17T14:26:55.548652Z",
     "iopub.status.idle": "2021-12-17T14:26:55.582779Z",
     "shell.execute_reply": "2021-12-17T14:26:55.583177Z"
    }
   },
   "outputs": [
    {
     "data": {
      "text/plain": [
       "ref_0\n",
       "UnboundTable[table]\n",
       "  name: t\n",
       "  schema:\n",
       "    string_col : string\n",
       "\n",
       "JulianDay[float32*]\n",
       "  string_col = Column[string*] 'string_col' from table\n",
       "    ref_0"
      ]
     },
     "execution_count": 3,
     "metadata": {},
     "output_type": "execute_result"
    }
   ],
   "source": [
    "import ibis\n",
    "\n",
    "t = ibis.table([('string_col', 'string')], name='t')\n",
    "\n",
    "t.string_col.julianday()"
   ]
  },
  {
   "cell_type": "markdown",
   "metadata": {},
   "source": [
    "## Step 3: Turn the Expression into SQL"
   ]
  },
  {
   "cell_type": "code",
   "execution_count": 4,
   "metadata": {
    "execution": {
     "iopub.execute_input": "2021-12-17T14:26:55.588424Z",
     "iopub.status.busy": "2021-12-17T14:26:55.587442Z",
     "iopub.status.idle": "2021-12-17T14:26:55.824733Z",
     "shell.execute_reply": "2021-12-17T14:26:55.823948Z"
    }
   },
   "outputs": [],
   "source": [
    "import sqlalchemy as sa\n",
    "\n",
    "\n",
    "@ibis.sqlite.add_operation(JulianDay)\n",
    "def _julianday(translator, expr):\n",
    "    # pull out the arguments to the expression\n",
    "    arg, = expr.op().args\n",
    "    \n",
    "    # compile the argument\n",
    "    compiled_arg = translator.translate(arg)\n",
    "    \n",
    "    # return a SQLAlchemy expression that calls into the SQLite julianday function\n",
    "    return sa.func.julianday(compiled_arg)"
   ]
  },
  {
   "cell_type": "markdown",
   "metadata": {},
   "source": [
    "## Step 4: Putting it all Together"
   ]
  },
  {
   "cell_type": "code",
   "execution_count": 5,
   "metadata": {
    "execution": {
     "iopub.execute_input": "2021-12-17T14:26:55.829555Z",
     "iopub.status.busy": "2021-12-17T14:26:55.826907Z",
     "iopub.status.idle": "2021-12-17T14:26:55.835093Z",
     "shell.execute_reply": "2021-12-17T14:26:55.834640Z"
    }
   },
   "outputs": [],
   "source": [
    "import pathlib\n",
    "import ibis\n",
    "\n",
    "db_fname = str(pathlib.Path().resolve().parent.parent / 'tutorial' / 'data' / 'geography.db')\n",
    "\n",
    "con = ibis.sqlite.connect(db_fname)"
   ]
  },
  {
   "cell_type": "markdown",
   "metadata": {},
   "source": [
    "### Create and execute a `julianday` expression"
   ]
  },
  {
   "cell_type": "code",
   "execution_count": 6,
   "metadata": {
    "execution": {
     "iopub.execute_input": "2021-12-17T14:26:55.839122Z",
     "iopub.status.busy": "2021-12-17T14:26:55.838597Z",
     "iopub.status.idle": "2021-12-17T14:26:55.858190Z",
     "shell.execute_reply": "2021-12-17T14:26:55.858988Z"
    }
   },
   "outputs": [
    {
     "data": {
      "text/plain": [
       "AlchemyTable[table]\n",
       "  name: independence\n",
       "  schema:\n",
       "    country_code : string\n",
       "    independence_date : date\n",
       "    independence_from : string"
      ]
     },
     "execution_count": 6,
     "metadata": {},
     "output_type": "execute_result"
    }
   ],
   "source": [
    "independence = con.table('independence')\n",
    "independence"
   ]
  },
  {
   "cell_type": "code",
   "execution_count": 7,
   "metadata": {
    "execution": {
     "iopub.execute_input": "2021-12-17T14:26:55.869794Z",
     "iopub.status.busy": "2021-12-17T14:26:55.866308Z",
     "iopub.status.idle": "2021-12-17T14:26:55.877189Z",
     "shell.execute_reply": "2021-12-17T14:26:55.877928Z"
    }
   },
   "outputs": [
    {
     "data": {
      "text/plain": [
       "ref_0\n",
       "AlchemyTable[table]\n",
       "  name: independence\n",
       "  schema:\n",
       "    country_code : string\n",
       "    independence_date : date\n",
       "    independence_from : string\n",
       "\n",
       "cast(independence_date, string) = Cast[string*]\n",
       "  independence_date = Column[date*] 'independence_date' from table\n",
       "    ref_0\n",
       "  to:\n",
       "    string"
      ]
     },
     "execution_count": 7,
     "metadata": {},
     "output_type": "execute_result"
    }
   ],
   "source": [
    "day = independence.independence_date.cast('string')\n",
    "day"
   ]
  },
  {
   "cell_type": "code",
   "execution_count": 8,
   "metadata": {
    "execution": {
     "iopub.execute_input": "2021-12-17T14:26:55.887716Z",
     "iopub.status.busy": "2021-12-17T14:26:55.884535Z",
     "iopub.status.idle": "2021-12-17T14:26:55.897575Z",
     "shell.execute_reply": "2021-12-17T14:26:55.897159Z"
    }
   },
   "outputs": [
    {
     "data": {
      "text/plain": [
       "ref_0\n",
       "AlchemyTable[table]\n",
       "  name: independence\n",
       "  schema:\n",
       "    country_code : string\n",
       "    independence_date : date\n",
       "    independence_from : string\n",
       "\n",
       "JulianDay[float32*]\n",
       "  cast(independence_date, string) = Cast[string*]\n",
       "    independence_date = Column[date*] 'independence_date' from table\n",
       "      ref_0\n",
       "    to:\n",
       "      string"
      ]
     },
     "execution_count": 8,
     "metadata": {},
     "output_type": "execute_result"
    }
   ],
   "source": [
    "julianday_expr = day.julianday()\n",
    "julianday_expr"
   ]
  },
  {
   "cell_type": "code",
   "execution_count": 9,
   "metadata": {
    "execution": {
     "iopub.execute_input": "2021-12-17T14:26:55.904342Z",
     "iopub.status.busy": "2021-12-17T14:26:55.903876Z",
     "iopub.status.idle": "2021-12-17T14:26:55.908880Z",
     "shell.execute_reply": "2021-12-17T14:26:55.907915Z"
    }
   },
   "outputs": [
    {
     "name": "stdout",
     "output_type": "stream",
     "text": [
      "SELECT julianday(CAST(t0.independence_date AS TEXT)) AS tmp \n",
      "FROM base.independence AS t0\n"
     ]
    }
   ],
   "source": [
    "sql_expr = julianday_expr.compile()\n",
    "print(sql_expr)"
   ]
  },
  {
   "cell_type": "code",
   "execution_count": 10,
   "metadata": {
    "execution": {
     "iopub.execute_input": "2021-12-17T14:26:55.914776Z",
     "iopub.status.busy": "2021-12-17T14:26:55.913770Z",
     "iopub.status.idle": "2021-12-17T14:26:55.926093Z",
     "shell.execute_reply": "2021-12-17T14:26:55.925550Z"
    }
   },
   "outputs": [
    {
     "data": {
      "text/plain": [
       "0    2422189.5\n",
       "1    2419734.5\n",
       "2    2437850.5\n",
       "3    2442727.5\n",
       "4    2444909.5\n",
       "Name: tmp, dtype: float32"
      ]
     },
     "execution_count": 10,
     "metadata": {},
     "output_type": "execute_result"
    }
   ],
   "source": [
    "result = julianday_expr.execute()\n",
    "result.head()"
   ]
  },
  {
   "cell_type": "markdown",
   "metadata": {},
   "source": [
    "Because we've defined our operation on `StringValue`, and not just on `StringColumn` we get operations on both string scalars *and* string columns for free"
   ]
  },
  {
   "cell_type": "code",
   "execution_count": 11,
   "metadata": {
    "execution": {
     "iopub.execute_input": "2021-12-17T14:26:55.933965Z",
     "iopub.status.busy": "2021-12-17T14:26:55.932926Z",
     "iopub.status.idle": "2021-12-17T14:26:55.942375Z",
     "shell.execute_reply": "2021-12-17T14:26:55.941859Z"
    }
   },
   "outputs": [
    {
     "data": {
      "text/plain": [
       "Literal[string]\n",
       "  2010-03-14"
      ]
     },
     "execution_count": 11,
     "metadata": {},
     "output_type": "execute_result"
    }
   ],
   "source": [
    "scalar = ibis.literal('2010-03-14')\n",
    "scalar"
   ]
  },
  {
   "cell_type": "code",
   "execution_count": 12,
   "metadata": {
    "execution": {
     "iopub.execute_input": "2021-12-17T14:26:55.950484Z",
     "iopub.status.busy": "2021-12-17T14:26:55.949983Z",
     "iopub.status.idle": "2021-12-17T14:26:55.953583Z",
     "shell.execute_reply": "2021-12-17T14:26:55.954074Z"
    }
   },
   "outputs": [],
   "source": [
    "julianday_scalar = scalar.julianday()"
   ]
  },
  {
   "cell_type": "code",
   "execution_count": 13,
   "metadata": {
    "execution": {
     "iopub.execute_input": "2021-12-17T14:26:55.961995Z",
     "iopub.status.busy": "2021-12-17T14:26:55.958963Z",
     "iopub.status.idle": "2021-12-17T14:26:55.967077Z",
     "shell.execute_reply": "2021-12-17T14:26:55.966331Z"
    }
   },
   "outputs": [
    {
     "data": {
      "text/plain": [
       "2455269.5"
      ]
     },
     "execution_count": 13,
     "metadata": {},
     "output_type": "execute_result"
    }
   ],
   "source": [
    "con.execute(julianday_scalar)"
   ]
  }
 ],
 "metadata": {
  "kernelspec": {
   "display_name": "Python 3",
   "language": "python",
   "name": "python3"
  },
  "language_info": {
   "codemirror_mode": {
    "name": "ipython",
    "version": 3
   },
   "file_extension": ".py",
   "mimetype": "text/x-python",
   "name": "python",
   "nbconvert_exporter": "python",
   "pygments_lexer": "ipython3",
   "version": "3.9.9"
  }
 },
 "nbformat": 4,
 "nbformat_minor": 4
}
