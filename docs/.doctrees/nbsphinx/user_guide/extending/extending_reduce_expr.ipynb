{
 "cells": [
  {
   "cell_type": "markdown",
   "metadata": {},
   "source": [
    "# Extending Ibis Part 2: Adding a New Reduction Expression"
   ]
  },
  {
   "cell_type": "markdown",
   "metadata": {},
   "source": [
    "This notebook will show you how to add a new *reduction* operation `last_date` to the existing backend SQLite.\n",
    "\n",
    "A reduction operation is a function that maps $N$ rows to 1 row, for example the `sum` function."
   ]
  },
  {
   "cell_type": "markdown",
   "metadata": {},
   "source": [
    "## Description\n",
    "\n",
    "We're going to add a **`last_date`** function to ibis. `last_date` simply returns the latest date of a list of dates."
   ]
  },
  {
   "cell_type": "markdown",
   "metadata": {},
   "source": [
    "## Step 1: Define the Operation"
   ]
  },
  {
   "cell_type": "markdown",
   "metadata": {},
   "source": [
    "Let's define the `last_date` operation as a function that takes any date column as input and returns a date:\n",
    "\n",
    "```python\n",
    "import datetime\n",
    "import typing\n",
    "\n",
    "def last_date(dates: typing.List[datetime.date]) -> datetime.date:\n",
    "    \"\"\"Latest date\"\"\"\n",
    "```"
   ]
  },
  {
   "cell_type": "code",
   "execution_count": 1,
   "metadata": {
    "execution": {
     "iopub.execute_input": "2021-11-04T19:56:54.731263Z",
     "iopub.status.busy": "2021-11-04T19:56:54.730783Z",
     "iopub.status.idle": "2021-11-04T19:56:55.221107Z",
     "shell.execute_reply": "2021-11-04T19:56:55.220411Z"
    }
   },
   "outputs": [],
   "source": [
    "import ibis.expr.datatypes as dt\n",
    "import ibis.expr.rules as rlz\n",
    "\n",
    "from ibis.expr.operations import Reduction\n",
    "from ibis.expr.signature import Argument as Arg\n",
    "\n",
    "\n",
    "class LastDate(Reduction):\n",
    "    arg = Arg(rlz.column(rlz.date))\n",
    "    where = Arg(rlz.boolean, default=None)\n",
    "    output_type = rlz.scalar_like('arg')"
   ]
  },
  {
   "cell_type": "markdown",
   "metadata": {},
   "source": [
    "We just defined a `LastDate` class that takes one date column as input, and returns a scalar output of the same type as the input. This matches both the requirements of a reduction and the spepcifics of the function that we want to implement.\n",
    "\n",
    "**Note**: It is very important that you write the correct argument rules and output type here. The expression *will not work* otherwise."
   ]
  },
  {
   "cell_type": "markdown",
   "metadata": {},
   "source": [
    "## Step 2: Define the API"
   ]
  },
  {
   "cell_type": "markdown",
   "metadata": {},
   "source": [
    "Because every reduction in ibis has the ability to filter out values during aggregation (a typical feature in databases and analytics tools), to make an expression out of ``LastDate`` we need to pass an additional argument: `where` to our `LastDate` constructor."
   ]
  },
  {
   "cell_type": "code",
   "execution_count": 2,
   "metadata": {
    "execution": {
     "iopub.execute_input": "2021-11-04T19:56:55.227889Z",
     "iopub.status.busy": "2021-11-04T19:56:55.227357Z",
     "iopub.status.idle": "2021-11-04T19:56:55.231581Z",
     "shell.execute_reply": "2021-11-04T19:56:55.231123Z"
    }
   },
   "outputs": [],
   "source": [
    "from ibis.expr.types import DateColumn  # not DateValue! reductions are only valid on columns\n",
    "\n",
    "\n",
    "def last_date(date_column, where=None):\n",
    "    return LastDate(date_column, where=where).to_expr()\n",
    "\n",
    "\n",
    "DateColumn.last_date = last_date"
   ]
  },
  {
   "cell_type": "markdown",
   "metadata": {},
   "source": [
    "## Interlude: Create some expressions using `last_date`"
   ]
  },
  {
   "cell_type": "code",
   "execution_count": 3,
   "metadata": {
    "execution": {
     "iopub.execute_input": "2021-11-04T19:56:55.236874Z",
     "iopub.status.busy": "2021-11-04T19:56:55.235442Z",
     "iopub.status.idle": "2021-11-04T19:56:55.237468Z",
     "shell.execute_reply": "2021-11-04T19:56:55.237907Z"
    }
   },
   "outputs": [],
   "source": [
    "import ibis"
   ]
  },
  {
   "cell_type": "code",
   "execution_count": 4,
   "metadata": {
    "execution": {
     "iopub.execute_input": "2021-11-04T19:56:55.250113Z",
     "iopub.status.busy": "2021-11-04T19:56:55.247174Z",
     "iopub.status.idle": "2021-11-04T19:56:55.252827Z",
     "shell.execute_reply": "2021-11-04T19:56:55.255028Z"
    }
   },
   "outputs": [],
   "source": [
    "people = ibis.table([('name', 'string'), ('country', 'string'), ('date_of_birth', 'date')], name='people')"
   ]
  },
  {
   "cell_type": "code",
   "execution_count": 5,
   "metadata": {
    "execution": {
     "iopub.execute_input": "2021-11-04T19:56:55.266177Z",
     "iopub.status.busy": "2021-11-04T19:56:55.264173Z",
     "iopub.status.idle": "2021-11-04T19:56:55.281584Z",
     "shell.execute_reply": "2021-11-04T19:56:55.281131Z"
    }
   },
   "outputs": [
    {
     "data": {
      "text/plain": [
       "ref_0\n",
       "UnboundTable[table]\n",
       "  name: people\n",
       "  schema:\n",
       "    name : string\n",
       "    country : string\n",
       "    date_of_birth : date\n",
       "\n",
       "LastDate[date]\n",
       "  date_of_birth = Column[date*] 'date_of_birth' from table\n",
       "    ref_0\n",
       "  where:\n",
       "    None"
      ]
     },
     "execution_count": 5,
     "metadata": {},
     "output_type": "execute_result"
    }
   ],
   "source": [
    "people.date_of_birth.last_date()"
   ]
  },
  {
   "cell_type": "code",
   "execution_count": 6,
   "metadata": {
    "execution": {
     "iopub.execute_input": "2021-11-04T19:56:55.299287Z",
     "iopub.status.busy": "2021-11-04T19:56:55.289672Z",
     "iopub.status.idle": "2021-11-04T19:56:55.308337Z",
     "shell.execute_reply": "2021-11-04T19:56:55.308738Z"
    }
   },
   "outputs": [
    {
     "data": {
      "text/plain": [
       "ref_0\n",
       "UnboundTable[table]\n",
       "  name: people\n",
       "  schema:\n",
       "    name : string\n",
       "    country : string\n",
       "    date_of_birth : date\n",
       "\n",
       "LastDate[date]\n",
       "  date_of_birth = Column[date*] 'date_of_birth' from table\n",
       "    ref_0\n",
       "  where:\n",
       "    Equals[boolean*]\n",
       "      left:\n",
       "        country = Column[string*] 'country' from table\n",
       "          ref_0\n",
       "      right:\n",
       "        Literal[string]\n",
       "          Indonesia"
      ]
     },
     "execution_count": 6,
     "metadata": {},
     "output_type": "execute_result"
    }
   ],
   "source": [
    "people.date_of_birth.last_date(people.country == 'Indonesia')"
   ]
  },
  {
   "cell_type": "markdown",
   "metadata": {},
   "source": [
    "## Step 3: Turn the Expression into SQL"
   ]
  },
  {
   "cell_type": "code",
   "execution_count": 7,
   "metadata": {
    "execution": {
     "iopub.execute_input": "2021-11-04T19:56:55.315239Z",
     "iopub.status.busy": "2021-11-04T19:56:55.314596Z",
     "iopub.status.idle": "2021-11-04T19:56:55.583562Z",
     "shell.execute_reply": "2021-11-04T19:56:55.583994Z"
    }
   },
   "outputs": [],
   "source": [
    "import sqlalchemy as sa\n",
    "\n",
    "\n",
    "@ibis.sqlite.add_operation(LastDate)\n",
    "def _last_date(translator, expr):\n",
    "    # pull out the arguments to the expression\n",
    "    arg, where = expr.op().args\n",
    "    \n",
    "    # compile the argument\n",
    "    compiled_arg = translator.translate(arg)\n",
    "    \n",
    "    # call the appropriate SQLite function (`max` for the latest/maximum date)\n",
    "    agg = sa.func.max(compiled_arg)\n",
    "    \n",
    "    # handle a non-None filter clause\n",
    "    if where is not None:\n",
    "        return agg.filter(translator.translate(where))\n",
    "    return agg"
   ]
  },
  {
   "cell_type": "markdown",
   "metadata": {},
   "source": [
    "## Step 4: Putting it all Together"
   ]
  },
  {
   "cell_type": "code",
   "execution_count": 8,
   "metadata": {
    "execution": {
     "iopub.execute_input": "2021-11-04T19:56:55.590105Z",
     "iopub.status.busy": "2021-11-04T19:56:55.589532Z",
     "iopub.status.idle": "2021-11-04T19:56:55.595202Z",
     "shell.execute_reply": "2021-11-04T19:56:55.594700Z"
    },
    "scrolled": true
   },
   "outputs": [],
   "source": [
    "import pathlib\n",
    "import ibis\n",
    "\n",
    "db_fname = str(pathlib.Path().resolve().parent.parent / 'tutorial' / 'data' / 'geography.db')\n",
    "\n",
    "con = ibis.sqlite.connect(db_fname)"
   ]
  },
  {
   "cell_type": "markdown",
   "metadata": {},
   "source": [
    "### Create and execute a `bitwise_and` expression"
   ]
  },
  {
   "cell_type": "code",
   "execution_count": 9,
   "metadata": {
    "execution": {
     "iopub.execute_input": "2021-11-04T19:56:55.599857Z",
     "iopub.status.busy": "2021-11-04T19:56:55.599101Z",
     "iopub.status.idle": "2021-11-04T19:56:55.618295Z",
     "shell.execute_reply": "2021-11-04T19:56:55.619026Z"
    }
   },
   "outputs": [
    {
     "data": {
      "text/plain": [
       "AlchemyTable[table]\n",
       "  name: independence\n",
       "  schema:\n",
       "    country_code : string\n",
       "    independence_date : date\n",
       "    independence_from : string"
      ]
     },
     "execution_count": 9,
     "metadata": {},
     "output_type": "execute_result"
    }
   ],
   "source": [
    "independence = con.table('independence')\n",
    "independence"
   ]
  },
  {
   "cell_type": "markdown",
   "metadata": {},
   "source": [
    "Last country to gain independence in our database:"
   ]
  },
  {
   "cell_type": "code",
   "execution_count": 10,
   "metadata": {
    "execution": {
     "iopub.execute_input": "2021-11-04T19:56:55.629897Z",
     "iopub.status.busy": "2021-11-04T19:56:55.625230Z",
     "iopub.status.idle": "2021-11-04T19:56:55.640044Z",
     "shell.execute_reply": "2021-11-04T19:56:55.639108Z"
    }
   },
   "outputs": [
    {
     "data": {
      "text/plain": [
       "ref_0\n",
       "AlchemyTable[table]\n",
       "  name: independence\n",
       "  schema:\n",
       "    country_code : string\n",
       "    independence_date : date\n",
       "    independence_from : string\n",
       "\n",
       "LastDate[date]\n",
       "  independence_date = Column[date*] 'independence_date' from table\n",
       "    ref_0\n",
       "  where:\n",
       "    None"
      ]
     },
     "execution_count": 10,
     "metadata": {},
     "output_type": "execute_result"
    }
   ],
   "source": [
    "expr = independence.independence_date.last_date()\n",
    "expr"
   ]
  },
  {
   "cell_type": "code",
   "execution_count": 11,
   "metadata": {
    "execution": {
     "iopub.execute_input": "2021-11-04T19:56:55.647831Z",
     "iopub.status.busy": "2021-11-04T19:56:55.642525Z",
     "iopub.status.idle": "2021-11-04T19:56:55.652218Z",
     "shell.execute_reply": "2021-11-04T19:56:55.651717Z"
    }
   },
   "outputs": [
    {
     "name": "stdout",
     "output_type": "stream",
     "text": [
      "SELECT max(t0.independence_date) AS tmp \n",
      "FROM base.independence AS t0\n"
     ]
    }
   ],
   "source": [
    "sql_expr = expr.compile()\n",
    "print(sql_expr)"
   ]
  },
  {
   "cell_type": "code",
   "execution_count": 12,
   "metadata": {
    "execution": {
     "iopub.execute_input": "2021-11-04T19:56:55.657708Z",
     "iopub.status.busy": "2021-11-04T19:56:55.657173Z",
     "iopub.status.idle": "2021-11-04T19:56:55.666273Z",
     "shell.execute_reply": "2021-11-04T19:56:55.665636Z"
    }
   },
   "outputs": [
    {
     "data": {
      "text/plain": [
       "Timestamp('2011-07-09 00:00:00')"
      ]
     },
     "execution_count": 12,
     "metadata": {},
     "output_type": "execute_result"
    }
   ],
   "source": [
    "expr.execute()"
   ]
  },
  {
   "cell_type": "markdown",
   "metadata": {},
   "source": [
    "Last country to gain independence from the Spanish Empire, using the `where` parameter:"
   ]
  },
  {
   "cell_type": "code",
   "execution_count": 13,
   "metadata": {
    "execution": {
     "iopub.execute_input": "2021-11-04T19:56:55.675090Z",
     "iopub.status.busy": "2021-11-04T19:56:55.668664Z",
     "iopub.status.idle": "2021-11-04T19:56:55.690314Z",
     "shell.execute_reply": "2021-11-04T19:56:55.689754Z"
    }
   },
   "outputs": [
    {
     "data": {
      "text/plain": [
       "ref_0\n",
       "AlchemyTable[table]\n",
       "  name: independence\n",
       "  schema:\n",
       "    country_code : string\n",
       "    independence_date : date\n",
       "    independence_from : string\n",
       "\n",
       "LastDate[date]\n",
       "  independence_date = Column[date*] 'independence_date' from table\n",
       "    ref_0\n",
       "  where:\n",
       "    Equals[boolean*]\n",
       "      left:\n",
       "        independence_from = Column[string*] 'independence_from' from table\n",
       "          ref_0\n",
       "      right:\n",
       "        Literal[string]\n",
       "          Spanish Empire"
      ]
     },
     "execution_count": 13,
     "metadata": {},
     "output_type": "execute_result"
    }
   ],
   "source": [
    "expr = independence.independence_date.last_date(where=independence.independence_from == 'Spanish Empire')\n",
    "expr"
   ]
  },
  {
   "cell_type": "code",
   "execution_count": 14,
   "metadata": {
    "execution": {
     "iopub.execute_input": "2021-11-04T19:56:55.698235Z",
     "iopub.status.busy": "2021-11-04T19:56:55.697626Z",
     "iopub.status.idle": "2021-11-04T19:56:55.705940Z",
     "shell.execute_reply": "2021-11-04T19:56:55.705482Z"
    }
   },
   "outputs": [
    {
     "data": {
      "text/plain": [
       "Timestamp('1898-06-12 00:00:00')"
      ]
     },
     "execution_count": 14,
     "metadata": {},
     "output_type": "execute_result"
    }
   ],
   "source": [
    "result = expr.execute()\n",
    "result"
   ]
  }
 ],
 "metadata": {
  "kernelspec": {
   "display_name": "Python 3",
   "language": "python",
   "name": "python3"
  },
  "language_info": {
   "codemirror_mode": {
    "name": "ipython",
    "version": 3
   },
   "file_extension": ".py",
   "mimetype": "text/x-python",
   "name": "python",
   "nbconvert_exporter": "python",
   "pygments_lexer": "ipython3",
   "version": "3.9.7"
  }
 },
 "nbformat": 4,
 "nbformat_minor": 4
}
