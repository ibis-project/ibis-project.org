{
 "cells": [
  {
   "cell_type": "markdown",
   "metadata": {},
   "source": [
    "# Extending Ibis Part 2: Adding a New Reduction Expression"
   ]
  },
  {
   "cell_type": "markdown",
   "metadata": {},
   "source": [
    "This notebook will show you how to add a new *reduction* operation `last_date` to the existing backend SQLite.\n",
    "\n",
    "A reduction operation is a function that maps $N$ rows to 1 row, for example the `sum` function."
   ]
  },
  {
   "cell_type": "markdown",
   "metadata": {},
   "source": [
    "## Description\n",
    "\n",
    "We're going to add a **`last_date`** function to ibis. `last_date` simply returns the latest date of a list of dates."
   ]
  },
  {
   "cell_type": "markdown",
   "metadata": {},
   "source": [
    "## Step 1: Define the Operation"
   ]
  },
  {
   "cell_type": "markdown",
   "metadata": {},
   "source": [
    "Let's define the `last_date` operation as a function that takes any date column as input and returns a date:\n",
    "\n",
    "```python\n",
    "import datetime\n",
    "import typing\n",
    "\n",
    "def last_date(dates: typing.List[datetime.date]) -> datetime.date:\n",
    "    \"\"\"Latest date\"\"\"\n",
    "```"
   ]
  },
  {
   "cell_type": "code",
   "execution_count": 1,
   "metadata": {
    "execution": {
     "iopub.execute_input": "2021-12-21T13:42:31.022992Z",
     "iopub.status.busy": "2021-12-21T13:42:31.022529Z",
     "iopub.status.idle": "2021-12-21T13:42:31.455714Z",
     "shell.execute_reply": "2021-12-21T13:42:31.454693Z"
    }
   },
   "outputs": [],
   "source": [
    "import ibis.expr.datatypes as dt\n",
    "import ibis.expr.rules as rlz\n",
    "\n",
    "from ibis.expr.operations import Reduction\n",
    "from ibis.expr.signature import Argument as Arg\n",
    "\n",
    "\n",
    "class LastDate(Reduction):\n",
    "    arg = Arg(rlz.column(rlz.date))\n",
    "    where = Arg(rlz.boolean, default=None)\n",
    "    output_type = rlz.scalar_like('arg')"
   ]
  },
  {
   "cell_type": "markdown",
   "metadata": {},
   "source": [
    "We just defined a `LastDate` class that takes one date column as input, and returns a scalar output of the same type as the input. This matches both the requirements of a reduction and the spepcifics of the function that we want to implement.\n",
    "\n",
    "**Note**: It is very important that you write the correct argument rules and output type here. The expression *will not work* otherwise."
   ]
  },
  {
   "cell_type": "markdown",
   "metadata": {},
   "source": [
    "## Step 2: Define the API"
   ]
  },
  {
   "cell_type": "markdown",
   "metadata": {},
   "source": [
    "Because every reduction in ibis has the ability to filter out values during aggregation (a typical feature in databases and analytics tools), to make an expression out of ``LastDate`` we need to pass an additional argument: `where` to our `LastDate` constructor."
   ]
  },
  {
   "cell_type": "code",
   "execution_count": 2,
   "metadata": {
    "execution": {
     "iopub.execute_input": "2021-12-21T13:42:31.460627Z",
     "iopub.status.busy": "2021-12-21T13:42:31.460108Z",
     "iopub.status.idle": "2021-12-21T13:42:31.462866Z",
     "shell.execute_reply": "2021-12-21T13:42:31.462141Z"
    }
   },
   "outputs": [],
   "source": [
    "from ibis.expr.types import DateColumn  # not DateValue! reductions are only valid on columns\n",
    "\n",
    "\n",
    "def last_date(date_column, where=None):\n",
    "    return LastDate(date_column, where=where).to_expr()\n",
    "\n",
    "\n",
    "DateColumn.last_date = last_date"
   ]
  },
  {
   "cell_type": "markdown",
   "metadata": {},
   "source": [
    "## Interlude: Create some expressions using `last_date`"
   ]
  },
  {
   "cell_type": "code",
   "execution_count": 3,
   "metadata": {
    "execution": {
     "iopub.execute_input": "2021-12-21T13:42:31.466635Z",
     "iopub.status.busy": "2021-12-21T13:42:31.466181Z",
     "iopub.status.idle": "2021-12-21T13:42:31.469190Z",
     "shell.execute_reply": "2021-12-21T13:42:31.468752Z"
    }
   },
   "outputs": [],
   "source": [
    "import ibis"
   ]
  },
  {
   "cell_type": "code",
   "execution_count": 4,
   "metadata": {
    "execution": {
     "iopub.execute_input": "2021-12-21T13:42:31.478016Z",
     "iopub.status.busy": "2021-12-21T13:42:31.477551Z",
     "iopub.status.idle": "2021-12-21T13:42:31.479043Z",
     "shell.execute_reply": "2021-12-21T13:42:31.479386Z"
    }
   },
   "outputs": [],
   "source": [
    "people = ibis.table([('name', 'string'), ('country', 'string'), ('date_of_birth', 'date')], name='people')"
   ]
  },
  {
   "cell_type": "code",
   "execution_count": 5,
   "metadata": {
    "execution": {
     "iopub.execute_input": "2021-12-21T13:42:31.489077Z",
     "iopub.status.busy": "2021-12-21T13:42:31.486702Z",
     "iopub.status.idle": "2021-12-21T13:42:31.510869Z",
     "shell.execute_reply": "2021-12-21T13:42:31.510463Z"
    }
   },
   "outputs": [
    {
     "data": {
      "text/plain": [
       "ref_0\n",
       "UnboundTable[table]\n",
       "  name: people\n",
       "  schema:\n",
       "    name : string\n",
       "    country : string\n",
       "    date_of_birth : date\n",
       "\n",
       "LastDate[date]\n",
       "  date_of_birth = Column[date*] 'date_of_birth' from table\n",
       "    ref_0\n",
       "  where:\n",
       "    None"
      ]
     },
     "execution_count": 5,
     "metadata": {},
     "output_type": "execute_result"
    }
   ],
   "source": [
    "people.date_of_birth.last_date()"
   ]
  },
  {
   "cell_type": "code",
   "execution_count": 6,
   "metadata": {
    "execution": {
     "iopub.execute_input": "2021-12-21T13:42:31.524262Z",
     "iopub.status.busy": "2021-12-21T13:42:31.521559Z",
     "iopub.status.idle": "2021-12-21T13:42:31.532251Z",
     "shell.execute_reply": "2021-12-21T13:42:31.532618Z"
    }
   },
   "outputs": [
    {
     "data": {
      "text/plain": [
       "ref_0\n",
       "UnboundTable[table]\n",
       "  name: people\n",
       "  schema:\n",
       "    name : string\n",
       "    country : string\n",
       "    date_of_birth : date\n",
       "\n",
       "LastDate[date]\n",
       "  date_of_birth = Column[date*] 'date_of_birth' from table\n",
       "    ref_0\n",
       "  where:\n",
       "    Equals[boolean*]\n",
       "      left:\n",
       "        country = Column[string*] 'country' from table\n",
       "          ref_0\n",
       "      right:\n",
       "        Literal[string]\n",
       "          Indonesia"
      ]
     },
     "execution_count": 6,
     "metadata": {},
     "output_type": "execute_result"
    }
   ],
   "source": [
    "people.date_of_birth.last_date(people.country == 'Indonesia')"
   ]
  },
  {
   "cell_type": "markdown",
   "metadata": {},
   "source": [
    "## Step 3: Turn the Expression into SQL"
   ]
  },
  {
   "cell_type": "code",
   "execution_count": 7,
   "metadata": {
    "execution": {
     "iopub.execute_input": "2021-12-21T13:42:31.538688Z",
     "iopub.status.busy": "2021-12-21T13:42:31.537590Z",
     "iopub.status.idle": "2021-12-21T13:42:31.795649Z",
     "shell.execute_reply": "2021-12-21T13:42:31.794749Z"
    }
   },
   "outputs": [],
   "source": [
    "import sqlalchemy as sa\n",
    "\n",
    "\n",
    "@ibis.sqlite.add_operation(LastDate)\n",
    "def _last_date(translator, expr):\n",
    "    # pull out the arguments to the expression\n",
    "    arg, where = expr.op().args\n",
    "    \n",
    "    # compile the argument\n",
    "    compiled_arg = translator.translate(arg)\n",
    "    \n",
    "    # call the appropriate SQLite function (`max` for the latest/maximum date)\n",
    "    agg = sa.func.max(compiled_arg)\n",
    "    \n",
    "    # handle a non-None filter clause\n",
    "    if where is not None:\n",
    "        return agg.filter(translator.translate(where))\n",
    "    return agg"
   ]
  },
  {
   "cell_type": "markdown",
   "metadata": {},
   "source": [
    "## Step 4: Putting it all Together"
   ]
  },
  {
   "cell_type": "code",
   "execution_count": 8,
   "metadata": {
    "execution": {
     "iopub.execute_input": "2021-12-21T13:42:31.802180Z",
     "iopub.status.busy": "2021-12-21T13:42:31.800970Z",
     "iopub.status.idle": "2021-12-21T13:42:31.806231Z",
     "shell.execute_reply": "2021-12-21T13:42:31.805526Z"
    },
    "scrolled": true
   },
   "outputs": [],
   "source": [
    "import pathlib\n",
    "import ibis\n",
    "\n",
    "db_fname = str(pathlib.Path().resolve().parent.parent / 'tutorial' / 'data' / 'geography.db')\n",
    "\n",
    "con = ibis.sqlite.connect(db_fname)"
   ]
  },
  {
   "cell_type": "markdown",
   "metadata": {},
   "source": [
    "### Create and execute a `bitwise_and` expression"
   ]
  },
  {
   "cell_type": "code",
   "execution_count": 9,
   "metadata": {
    "execution": {
     "iopub.execute_input": "2021-12-21T13:42:31.810358Z",
     "iopub.status.busy": "2021-12-21T13:42:31.809573Z",
     "iopub.status.idle": "2021-12-21T13:42:31.829795Z",
     "shell.execute_reply": "2021-12-21T13:42:31.830433Z"
    }
   },
   "outputs": [
    {
     "data": {
      "text/plain": [
       "AlchemyTable[table]\n",
       "  name: independence\n",
       "  schema:\n",
       "    country_code : string\n",
       "    independence_date : date\n",
       "    independence_from : string"
      ]
     },
     "execution_count": 9,
     "metadata": {},
     "output_type": "execute_result"
    }
   ],
   "source": [
    "independence = con.table('independence')\n",
    "independence"
   ]
  },
  {
   "cell_type": "markdown",
   "metadata": {},
   "source": [
    "Last country to gain independence in our database:"
   ]
  },
  {
   "cell_type": "code",
   "execution_count": 10,
   "metadata": {
    "execution": {
     "iopub.execute_input": "2021-12-21T13:42:31.836917Z",
     "iopub.status.busy": "2021-12-21T13:42:31.836443Z",
     "iopub.status.idle": "2021-12-21T13:42:31.846792Z",
     "shell.execute_reply": "2021-12-21T13:42:31.846388Z"
    }
   },
   "outputs": [
    {
     "data": {
      "text/plain": [
       "ref_0\n",
       "AlchemyTable[table]\n",
       "  name: independence\n",
       "  schema:\n",
       "    country_code : string\n",
       "    independence_date : date\n",
       "    independence_from : string\n",
       "\n",
       "LastDate[date]\n",
       "  independence_date = Column[date*] 'independence_date' from table\n",
       "    ref_0\n",
       "  where:\n",
       "    None"
      ]
     },
     "execution_count": 10,
     "metadata": {},
     "output_type": "execute_result"
    }
   ],
   "source": [
    "expr = independence.independence_date.last_date()\n",
    "expr"
   ]
  },
  {
   "cell_type": "code",
   "execution_count": 11,
   "metadata": {
    "execution": {
     "iopub.execute_input": "2021-12-21T13:42:31.854613Z",
     "iopub.status.busy": "2021-12-21T13:42:31.854157Z",
     "iopub.status.idle": "2021-12-21T13:42:31.855753Z",
     "shell.execute_reply": "2021-12-21T13:42:31.856211Z"
    }
   },
   "outputs": [
    {
     "name": "stdout",
     "output_type": "stream",
     "text": [
      "SELECT max(t0.independence_date) AS tmp \n",
      "FROM base.independence AS t0\n"
     ]
    }
   ],
   "source": [
    "sql_expr = expr.compile()\n",
    "print(sql_expr)"
   ]
  },
  {
   "cell_type": "code",
   "execution_count": 12,
   "metadata": {
    "execution": {
     "iopub.execute_input": "2021-12-21T13:42:31.865644Z",
     "iopub.status.busy": "2021-12-21T13:42:31.860681Z",
     "iopub.status.idle": "2021-12-21T13:42:31.867610Z",
     "shell.execute_reply": "2021-12-21T13:42:31.867982Z"
    }
   },
   "outputs": [
    {
     "data": {
      "text/plain": [
       "Timestamp('2011-07-09 00:00:00')"
      ]
     },
     "execution_count": 12,
     "metadata": {},
     "output_type": "execute_result"
    }
   ],
   "source": [
    "expr.execute()"
   ]
  },
  {
   "cell_type": "markdown",
   "metadata": {},
   "source": [
    "Last country to gain independence from the Spanish Empire, using the `where` parameter:"
   ]
  },
  {
   "cell_type": "code",
   "execution_count": 13,
   "metadata": {
    "execution": {
     "iopub.execute_input": "2021-12-21T13:42:31.874019Z",
     "iopub.status.busy": "2021-12-21T13:42:31.873562Z",
     "iopub.status.idle": "2021-12-21T13:42:31.884509Z",
     "shell.execute_reply": "2021-12-21T13:42:31.884086Z"
    }
   },
   "outputs": [
    {
     "data": {
      "text/plain": [
       "ref_0\n",
       "AlchemyTable[table]\n",
       "  name: independence\n",
       "  schema:\n",
       "    country_code : string\n",
       "    independence_date : date\n",
       "    independence_from : string\n",
       "\n",
       "LastDate[date]\n",
       "  independence_date = Column[date*] 'independence_date' from table\n",
       "    ref_0\n",
       "  where:\n",
       "    Equals[boolean*]\n",
       "      left:\n",
       "        independence_from = Column[string*] 'independence_from' from table\n",
       "          ref_0\n",
       "      right:\n",
       "        Literal[string]\n",
       "          Spanish Empire"
      ]
     },
     "execution_count": 13,
     "metadata": {},
     "output_type": "execute_result"
    }
   ],
   "source": [
    "expr = independence.independence_date.last_date(where=independence.independence_from == 'Spanish Empire')\n",
    "expr"
   ]
  },
  {
   "cell_type": "code",
   "execution_count": 14,
   "metadata": {
    "execution": {
     "iopub.execute_input": "2021-12-21T13:42:31.891665Z",
     "iopub.status.busy": "2021-12-21T13:42:31.891216Z",
     "iopub.status.idle": "2021-12-21T13:42:31.898233Z",
     "shell.execute_reply": "2021-12-21T13:42:31.897847Z"
    }
   },
   "outputs": [
    {
     "data": {
      "text/plain": [
       "Timestamp('1898-06-12 00:00:00')"
      ]
     },
     "execution_count": 14,
     "metadata": {},
     "output_type": "execute_result"
    }
   ],
   "source": [
    "result = expr.execute()\n",
    "result"
   ]
  }
 ],
 "metadata": {
  "kernelspec": {
   "display_name": "Python 3",
   "language": "python",
   "name": "python3"
  },
  "language_info": {
   "codemirror_mode": {
    "name": "ipython",
    "version": 3
   },
   "file_extension": ".py",
   "mimetype": "text/x-python",
   "name": "python",
   "nbconvert_exporter": "python",
   "pygments_lexer": "ipython3",
   "version": "3.9.9"
  }
 },
 "nbformat": 4,
 "nbformat_minor": 4
}
