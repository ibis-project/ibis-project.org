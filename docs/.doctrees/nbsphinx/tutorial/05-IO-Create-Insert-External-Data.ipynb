{
 "cells": [
  {
   "cell_type": "markdown",
   "metadata": {},
   "source": [
    "# Creating and inserting data"
   ]
  },
  {
   "cell_type": "markdown",
   "metadata": {},
   "source": [
    "## Setup"
   ]
  },
  {
   "cell_type": "code",
   "execution_count": 1,
   "metadata": {
    "execution": {
     "iopub.execute_input": "2022-01-03T23:17:48.026097Z",
     "iopub.status.busy": "2022-01-03T23:17:48.025521Z",
     "iopub.status.idle": "2022-01-03T23:17:48.721272Z",
     "shell.execute_reply": "2022-01-03T23:17:48.720680Z"
    },
    "scrolled": true
   },
   "outputs": [],
   "source": [
    "import os\n",
    "import ibis\n",
    "\n",
    "ibis.options.interactive = True\n",
    "\n",
    "connection = ibis.sqlite.connect(os.path.join('data', 'geography.db'))"
   ]
  },
  {
   "cell_type": "markdown",
   "metadata": {},
   "source": [
    "## Creating new tables from Ibis expressions\n",
    "\n",
    "\n",
    "Suppose you have an Ibis expression that produces a table:"
   ]
  },
  {
   "cell_type": "code",
   "execution_count": 2,
   "metadata": {
    "execution": {
     "iopub.execute_input": "2022-01-03T23:17:48.728543Z",
     "iopub.status.busy": "2022-01-03T23:17:48.728013Z",
     "iopub.status.idle": "2022-01-03T23:17:48.770971Z",
     "shell.execute_reply": "2022-01-03T23:17:48.770527Z"
    }
   },
   "outputs": [
    {
     "data": {
      "text/plain": [
       "  continent continent_name\n",
       "0        EU         Europe\n",
       "1        AS           Asia\n",
       "2        NA  North America\n",
       "3        AF         Africa\n",
       "4        AN     Antarctica\n",
       "5        SA  South America\n",
       "6        OC        Oceania"
      ]
     },
     "execution_count": 2,
     "metadata": {},
     "output_type": "execute_result"
    }
   ],
   "source": [
    "countries = connection.table('countries')\n",
    "\n",
    "continent_name = (countries.continent\n",
    "                           .case()\n",
    "                           .when('AF', 'Africa')\n",
    "                           .when('AN', 'Antarctica')\n",
    "                           .when('AS', 'Asia')\n",
    "                           .when('EU', 'Europe')\n",
    "                           .when('NA', 'North America')\n",
    "                           .when('OC', 'Oceania')\n",
    "                           .when('SA', 'South America')\n",
    "                           .else_(countries.continent)\n",
    "                           .end()\n",
    "                           .name('continent_name'))\n",
    "\n",
    "expr = countries[countries.continent, continent_name].distinct()\n",
    "expr"
   ]
  },
  {
   "cell_type": "markdown",
   "metadata": {},
   "source": [
    "To create a table in the database from the results of this expression, use the connection's `create_table` method:"
   ]
  },
  {
   "cell_type": "code",
   "execution_count": 3,
   "metadata": {
    "execution": {
     "iopub.execute_input": "2022-01-03T23:17:48.778289Z",
     "iopub.status.busy": "2022-01-03T23:17:48.777766Z",
     "iopub.status.idle": "2022-01-03T23:17:48.794301Z",
     "shell.execute_reply": "2022-01-03T23:17:48.794692Z"
    }
   },
   "outputs": [],
   "source": [
    "connection.create_table('continents', expr)"
   ]
  },
  {
   "cell_type": "code",
   "execution_count": 4,
   "metadata": {
    "execution": {
     "iopub.execute_input": "2022-01-03T23:17:48.803816Z",
     "iopub.status.busy": "2022-01-03T23:17:48.799683Z",
     "iopub.status.idle": "2022-01-03T23:17:48.805856Z",
     "shell.execute_reply": "2022-01-03T23:17:48.806255Z"
    }
   },
   "outputs": [
    {
     "data": {
      "text/plain": [
       "  continent continent_name\n",
       "0        EU         Europe\n",
       "1        AS           Asia\n",
       "2        NA  North America\n",
       "3        AF         Africa\n",
       "4        AN     Antarctica\n",
       "5        SA  South America\n",
       "6        OC        Oceania"
      ]
     },
     "execution_count": 4,
     "metadata": {},
     "output_type": "execute_result"
    }
   ],
   "source": [
    "continents = connection.table('continents')\n",
    "continents"
   ]
  },
  {
   "cell_type": "markdown",
   "metadata": {},
   "source": [
    "Tables can be similarly dropped with `drop_table`"
   ]
  },
  {
   "cell_type": "code",
   "execution_count": 5,
   "metadata": {
    "execution": {
     "iopub.execute_input": "2022-01-03T23:17:48.810468Z",
     "iopub.status.busy": "2022-01-03T23:17:48.809932Z",
     "iopub.status.idle": "2022-01-03T23:17:48.814212Z",
     "shell.execute_reply": "2022-01-03T23:17:48.813752Z"
    }
   },
   "outputs": [],
   "source": [
    "connection.drop_table('continents')"
   ]
  },
  {
   "cell_type": "markdown",
   "metadata": {},
   "source": [
    "## Inserting data into existing tables\n",
    "\n",
    "\n",
    "Some backends support inserting data into existing tables from expressions. This can be done using `connection.insert('table_name', expr)`."
   ]
  }
 ],
 "metadata": {
  "kernelspec": {
   "display_name": "Python 3",
   "language": "python",
   "name": "python3"
  },
  "language_info": {
   "codemirror_mode": {
    "name": "ipython",
    "version": 3
   },
   "file_extension": ".py",
   "mimetype": "text/x-python",
   "name": "python",
   "nbconvert_exporter": "python",
   "pygments_lexer": "ipython3",
   "version": "3.9.9"
  }
 },
 "nbformat": 4,
 "nbformat_minor": 4
}
