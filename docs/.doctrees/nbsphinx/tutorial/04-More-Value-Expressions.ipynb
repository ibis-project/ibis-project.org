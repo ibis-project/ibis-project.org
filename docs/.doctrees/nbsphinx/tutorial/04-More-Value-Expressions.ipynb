{
 "cells": [
  {
   "cell_type": "markdown",
   "metadata": {},
   "source": [
    "# More Value Expressions"
   ]
  },
  {
   "cell_type": "markdown",
   "metadata": {},
   "source": [
    "## Setup"
   ]
  },
  {
   "cell_type": "code",
   "execution_count": 1,
   "metadata": {
    "execution": {
     "iopub.execute_input": "2021-11-03T19:57:57.325276Z",
     "iopub.status.busy": "2021-11-03T19:57:57.324559Z",
     "iopub.status.idle": "2021-11-03T19:57:58.162419Z",
     "shell.execute_reply": "2021-11-03T19:57:58.161804Z"
    }
   },
   "outputs": [],
   "source": [
    "import os\n",
    "import ibis\n",
    "\n",
    "ibis.options.interactive = True\n",
    "\n",
    "connection = ibis.sqlite.connect(os.path.join('data', 'geography.db'))"
   ]
  },
  {
   "cell_type": "markdown",
   "metadata": {},
   "source": [
    "## Type casting\n",
    "\n",
    "The Ibis type system is pretty basic and will get better (and more documented over time). It maps directly onto the current Impala type system\n",
    "\n",
    "- `int8`\n",
    "- `int16`\n",
    "- `int32`\n",
    "- `int64`\n",
    "- `boolean`\n",
    "- `float`\n",
    "- `double`\n",
    "- `string`\n",
    "- `timestamp`\n",
    "- `decimal($precision, $scale)`\n",
    "\n",
    "These type names can be used to cast from one type to another"
   ]
  },
  {
   "cell_type": "code",
   "execution_count": 2,
   "metadata": {
    "execution": {
     "iopub.execute_input": "2021-11-03T19:57:58.167935Z",
     "iopub.status.busy": "2021-11-03T19:57:58.166668Z",
     "iopub.status.idle": "2021-11-03T19:57:58.219228Z",
     "shell.execute_reply": "2021-11-03T19:57:58.219744Z"
    }
   },
   "outputs": [
    {
     "data": {
      "text/plain": [
       "     country_code  year         value\n",
       "0             ABW  1986  4.054634e+08\n",
       "1             ABW  1987  4.876025e+08\n",
       "2             ABW  1988  5.964236e+08\n",
       "3             ABW  1989  6.953044e+08\n",
       "4             ABW  1990  7.648871e+08\n",
       "...           ...   ...           ...\n",
       "9995          SVK  2002  3.513034e+10\n",
       "9996          SVK  2003  4.681659e+10\n",
       "9997          SVK  2004  5.733202e+10\n",
       "9998          SVK  2005  6.278531e+10\n",
       "9999          SVK  2006  7.070810e+10\n",
       "\n",
       "[10000 rows x 3 columns]"
      ]
     },
     "execution_count": 2,
     "metadata": {},
     "output_type": "execute_result"
    }
   ],
   "source": [
    "countries = connection.table('countries')\n",
    "countries\n",
    "connection.table('gdp')"
   ]
  },
  {
   "cell_type": "code",
   "execution_count": 3,
   "metadata": {
    "execution": {
     "iopub.execute_input": "2021-11-03T19:57:58.232716Z",
     "iopub.status.busy": "2021-11-03T19:57:58.227313Z",
     "iopub.status.idle": "2021-11-03T19:57:58.238236Z",
     "shell.execute_reply": "2021-11-03T19:57:58.238877Z"
    }
   },
   "outputs": [
    {
     "data": {
      "text/plain": [
       "6878963738.0"
      ]
     },
     "execution_count": 3,
     "metadata": {},
     "output_type": "execute_result"
    }
   ],
   "source": [
    "countries = connection.table('countries')\n",
    "countries.population.cast('float').sum()"
   ]
  },
  {
   "cell_type": "code",
   "execution_count": 4,
   "metadata": {
    "execution": {
     "iopub.execute_input": "2021-11-03T19:57:58.248785Z",
     "iopub.status.busy": "2021-11-03T19:57:58.247639Z",
     "iopub.status.idle": "2021-11-03T19:57:58.250917Z",
     "shell.execute_reply": "2021-11-03T19:57:58.251379Z"
    }
   },
   "outputs": [
    {
     "data": {
      "text/plain": [
       "150012536"
      ]
     },
     "execution_count": 4,
     "metadata": {},
     "output_type": "execute_result"
    }
   ],
   "source": [
    "countries.area_km2.cast('int32').sum()"
   ]
  },
  {
   "cell_type": "markdown",
   "metadata": {},
   "source": [
    "## Case / if-then-else expressions\n",
    "\n",
    "\n",
    "We support a number of variants of the SQL-equivalent `CASE` expression, and will add more API functions over time to meet different use cases and enhance the expressiveness of any branching-based value logic."
   ]
  },
  {
   "cell_type": "code",
   "execution_count": 5,
   "metadata": {
    "execution": {
     "iopub.execute_input": "2021-11-03T19:57:58.264200Z",
     "iopub.status.busy": "2021-11-03T19:57:58.258986Z",
     "iopub.status.idle": "2021-11-03T19:57:58.270519Z",
     "shell.execute_reply": "2021-11-03T19:57:58.271031Z"
    }
   },
   "outputs": [
    {
     "data": {
      "text/plain": [
       "  continent_name  count\n",
       "0         Africa     58\n",
       "1     Antarctica      5\n",
       "2           Asia     51\n",
       "3         Europe     54\n",
       "4  North America     42\n",
       "5        Oceania     28\n",
       "6  South America     14"
      ]
     },
     "execution_count": 5,
     "metadata": {},
     "output_type": "execute_result"
    }
   ],
   "source": [
    "expr = (countries.continent\n",
    "        .case()\n",
    "        .when('AF', 'Africa')\n",
    "        .when('AN', 'Antarctica')\n",
    "        .when('AS', 'Asia')\n",
    "        .when('EU', 'Europe')\n",
    "        .when('NA', 'North America')\n",
    "        .when('OC', 'Oceania')\n",
    "        .when('SA', 'South America')\n",
    "        .else_(countries.continent)\n",
    "        .end()\n",
    "        .name('continent_name'))\n",
    "\n",
    "expr.value_counts()"
   ]
  },
  {
   "cell_type": "markdown",
   "metadata": {},
   "source": [
    "If the `else_` default condition is not provided, any values not matching one of the conditions will be `NULL`."
   ]
  },
  {
   "cell_type": "code",
   "execution_count": 6,
   "metadata": {
    "execution": {
     "iopub.execute_input": "2021-11-03T19:57:58.282661Z",
     "iopub.status.busy": "2021-11-03T19:57:58.282082Z",
     "iopub.status.idle": "2021-11-03T19:57:58.295105Z",
     "shell.execute_reply": "2021-11-03T19:57:58.294090Z"
    }
   },
   "outputs": [
    {
     "data": {
      "text/plain": [
       "  continent_name_with_nulls  count\n",
       "0                      None      5\n",
       "1                    Africa     58\n",
       "2                      Asia     51\n",
       "3                    Europe     54\n",
       "4             North America     42\n",
       "5                   Oceania     28\n",
       "6             South America     14"
      ]
     },
     "execution_count": 6,
     "metadata": {},
     "output_type": "execute_result"
    }
   ],
   "source": [
    "expr = (countries.continent\n",
    "        .case()\n",
    "        .when('AF', 'Africa')\n",
    "        .when('AS', 'Asia')\n",
    "        .when('EU', 'Europe')\n",
    "        .when('NA', 'North America')\n",
    "        .when('OC', 'Oceania')\n",
    "        .when('SA', 'South America')\n",
    "        .end()\n",
    "        .name('continent_name_with_nulls'))\n",
    "\n",
    "expr.value_counts()"
   ]
  },
  {
   "cell_type": "markdown",
   "metadata": {},
   "source": [
    "To test for an arbitrary series of boolean conditions, use the `case` API method and pass any boolean expressions potentially involving columns of the table:"
   ]
  },
  {
   "cell_type": "code",
   "execution_count": 7,
   "metadata": {
    "execution": {
     "iopub.execute_input": "2021-11-03T19:57:58.306214Z",
     "iopub.status.busy": "2021-11-03T19:57:58.305311Z",
     "iopub.status.idle": "2021-11-03T19:57:58.315391Z",
     "shell.execute_reply": "2021-11-03T19:57:58.314454Z"
    }
   },
   "outputs": [
    {
     "data": {
      "text/plain": [
       "                   name  population    size\n",
       "0               Andorra       84000   small\n",
       "1  United Arab Emirates     4975593   small\n",
       "2           Afghanistan    29121286     big\n",
       "3   Antigua and Barbuda       86754   small\n",
       "4              Anguilla       13254   small\n",
       "5               Albania     2986952   small\n",
       "6               Armenia     2968000   small\n",
       "7  Netherlands Antilles      300000   small\n",
       "8                Angola    13068161  medium\n",
       "9            Antarctica           0   small"
      ]
     },
     "execution_count": 7,
     "metadata": {},
     "output_type": "execute_result"
    }
   ],
   "source": [
    "expr = (ibis.case()\n",
    "        .when(countries.population > 25_000_000, 'big')\n",
    "        .when(countries.population < 5_000_000, 'small')\n",
    "        .else_('medium')\n",
    "        .end()\n",
    "        .name('size'))\n",
    "\n",
    "countries['name', 'population', expr].limit(10)"
   ]
  },
  {
   "cell_type": "markdown",
   "metadata": {},
   "source": [
    "Simple ternary-cases (like the Python `X if COND else Y`) can be written using the `ifelse` function:"
   ]
  },
  {
   "cell_type": "code",
   "execution_count": 8,
   "metadata": {
    "execution": {
     "iopub.execute_input": "2021-11-03T19:57:58.323269Z",
     "iopub.status.busy": "2021-11-03T19:57:58.322663Z",
     "iopub.status.idle": "2021-11-03T19:57:58.332778Z",
     "shell.execute_reply": "2021-11-03T19:57:58.332014Z"
    }
   },
   "outputs": [
    {
     "data": {
      "text/plain": [
       "                   name continent   is_asia\n",
       "0               Andorra        EU  Not Asia\n",
       "1  United Arab Emirates        AS      Asia\n",
       "2           Afghanistan        AS      Asia\n",
       "3   Antigua and Barbuda        NA  Not Asia\n",
       "4              Anguilla        NA  Not Asia\n",
       "5               Albania        EU  Not Asia\n",
       "6               Armenia        AS      Asia\n",
       "7  Netherlands Antilles        NA  Not Asia\n",
       "8                Angola        AF  Not Asia\n",
       "9            Antarctica        AN  Not Asia"
      ]
     },
     "execution_count": 8,
     "metadata": {},
     "output_type": "execute_result"
    }
   ],
   "source": [
    "expr = ((countries.continent == 'AS')\n",
    "        .ifelse('Asia', 'Not Asia')\n",
    "        .name('is_asia'))\n",
    "\n",
    "countries['name', 'continent', expr].limit(10)"
   ]
  },
  {
   "cell_type": "markdown",
   "metadata": {},
   "source": [
    "## Set membership\n",
    "\n",
    "\n",
    "The `isin` and `notin` functions are like their pandas counterparts. These can take:\n",
    "\n",
    "- A list of value expressions, either literal values or other column expressions\n",
    "- An array/column expression of some kind"
   ]
  },
  {
   "cell_type": "code",
   "execution_count": 9,
   "metadata": {
    "execution": {
     "iopub.execute_input": "2021-11-03T19:57:58.343391Z",
     "iopub.status.busy": "2021-11-03T19:57:58.340444Z",
     "iopub.status.idle": "2021-11-03T19:57:58.348805Z",
     "shell.execute_reply": "2021-11-03T19:57:58.348214Z"
    }
   },
   "outputs": [
    {
     "data": {
      "text/plain": [
       "  continent  count\n",
       "0        NA     42\n",
       "1        SA     14"
      ]
     },
     "execution_count": 9,
     "metadata": {},
     "output_type": "execute_result"
    }
   ],
   "source": [
    "is_america = countries.continent.isin(['NA', 'SA'])\n",
    "countries[is_america].continent.value_counts()"
   ]
  },
  {
   "cell_type": "markdown",
   "metadata": {},
   "source": [
    "You can also check for membership in an array. Here is an example of filtering based on the top 3 (ignoring ties) most frequently-occurring values in the `string_col` column of alltypes:"
   ]
  },
  {
   "cell_type": "code",
   "execution_count": 10,
   "metadata": {
    "execution": {
     "iopub.execute_input": "2021-11-03T19:57:58.360387Z",
     "iopub.status.busy": "2021-11-03T19:57:58.359715Z",
     "iopub.status.idle": "2021-11-03T19:57:58.368426Z",
     "shell.execute_reply": "2021-11-03T19:57:58.367889Z"
    }
   },
   "outputs": [
    {
     "data": {
      "text/plain": [
       "114"
      ]
     },
     "execution_count": 10,
     "metadata": {},
     "output_type": "execute_result"
    }
   ],
   "source": [
    "top_continents = countries.continent.value_counts().limit(3).continent\n",
    "top_continents_filter = countries.continent.isin(top_continents)\n",
    "expr = countries[top_continents_filter]\n",
    "\n",
    "expr.count()"
   ]
  },
  {
   "cell_type": "markdown",
   "metadata": {},
   "source": [
    "This is a common enough operation that we provide a special analytical filter function `topk`:"
   ]
  },
  {
   "cell_type": "code",
   "execution_count": 11,
   "metadata": {
    "execution": {
     "iopub.execute_input": "2021-11-03T19:57:58.377416Z",
     "iopub.status.busy": "2021-11-03T19:57:58.376800Z",
     "iopub.status.idle": "2021-11-03T19:57:58.385836Z",
     "shell.execute_reply": "2021-11-03T19:57:58.386299Z"
    }
   },
   "outputs": [
    {
     "data": {
      "text/plain": [
       "  continent  count\n",
       "0        AF     58\n",
       "1        EU     54\n",
       "2        AS     51"
      ]
     },
     "execution_count": 11,
     "metadata": {},
     "output_type": "execute_result"
    }
   ],
   "source": [
    "countries.continent.topk(3)"
   ]
  },
  {
   "cell_type": "markdown",
   "metadata": {},
   "source": [
    "Cool, huh? More on `topk` later."
   ]
  },
  {
   "cell_type": "markdown",
   "metadata": {},
   "source": [
    "## Null-ness\n",
    "\n",
    "Like their pandas equivalents, the `isnull` and `notnull` functions return True values if the values are null, or non-null, respectively. For example:"
   ]
  },
  {
   "cell_type": "code",
   "execution_count": 12,
   "metadata": {
    "execution": {
     "iopub.execute_input": "2021-11-03T19:57:58.396574Z",
     "iopub.status.busy": "2021-11-03T19:57:58.394170Z",
     "iopub.status.idle": "2021-11-03T19:57:58.405640Z",
     "shell.execute_reply": "2021-11-03T19:57:58.404689Z"
    }
   },
   "outputs": [
    {
     "data": {
      "text/plain": [
       "   unnamed  count\n",
       "0    False    163\n",
       "1     True     89"
      ]
     },
     "execution_count": 12,
     "metadata": {},
     "output_type": "execute_result"
    }
   ],
   "source": [
    "expr = (countries.continent\n",
    "        .case()\n",
    "        .when('AF', 'Africa')\n",
    "        .when('EU', 'Europe')\n",
    "        .when('AS', 'Asia')\n",
    "        .end()\n",
    "        .name('top_continent_name'))\n",
    "\n",
    "expr.isnull().value_counts()"
   ]
  },
  {
   "cell_type": "markdown",
   "metadata": {},
   "source": [
    "Functions like `isnull` can be combined with `case` expressions or functions like `ifelse` to replace null values with some other value. `ifelse` here will use the first value supplied for any `True` value and the second value for any `False` value. Either value can be a scalar or array. "
   ]
  },
  {
   "cell_type": "code",
   "execution_count": 13,
   "metadata": {
    "execution": {
     "iopub.execute_input": "2021-11-03T19:57:58.416999Z",
     "iopub.status.busy": "2021-11-03T19:57:58.416322Z",
     "iopub.status.idle": "2021-11-03T19:57:58.424983Z",
     "shell.execute_reply": "2021-11-03T19:57:58.424446Z"
    }
   },
   "outputs": [
    {
     "data": {
      "text/plain": [
       "         continent  count\n",
       "0           Africa     58\n",
       "1             Asia     51\n",
       "2           Europe     54\n",
       "3  Other continent     89"
      ]
     },
     "execution_count": 13,
     "metadata": {},
     "output_type": "execute_result"
    }
   ],
   "source": [
    "expr2 = expr.isnull().ifelse('Other continent', expr).name('continent')\n",
    "expr2.value_counts()"
   ]
  },
  {
   "cell_type": "markdown",
   "metadata": {},
   "source": [
    "## Distinct-based operations\n",
    "\n",
    "\n",
    "Ibis supports using `distinct` to remove duplicate rows or values on tables or arrays. For example:"
   ]
  },
  {
   "cell_type": "code",
   "execution_count": 14,
   "metadata": {
    "execution": {
     "iopub.execute_input": "2021-11-03T19:57:58.431113Z",
     "iopub.status.busy": "2021-11-03T19:57:58.430532Z",
     "iopub.status.idle": "2021-11-03T19:57:58.437410Z",
     "shell.execute_reply": "2021-11-03T19:57:58.436535Z"
    }
   },
   "outputs": [
    {
     "data": {
      "text/plain": [
       "0    EU\n",
       "1    AS\n",
       "2    NA\n",
       "3    AF\n",
       "4    AN\n",
       "5    SA\n",
       "6    OC\n",
       "Name: continent, dtype: object"
      ]
     },
     "execution_count": 14,
     "metadata": {},
     "output_type": "execute_result"
    }
   ],
   "source": [
    "countries['continent'].distinct()"
   ]
  },
  {
   "cell_type": "code",
   "execution_count": 15,
   "metadata": {
    "execution": {
     "iopub.execute_input": "2021-11-03T19:57:58.445740Z",
     "iopub.status.busy": "2021-11-03T19:57:58.442929Z",
     "iopub.status.idle": "2021-11-03T19:57:58.451386Z",
     "shell.execute_reply": "2021-11-03T19:57:58.450540Z"
    }
   },
   "outputs": [
    {
     "data": {
      "text/plain": [
       "0    EU\n",
       "1    AS\n",
       "2    NA\n",
       "3    AF\n",
       "4    AN\n",
       "5    SA\n",
       "6    OC\n",
       "Name: continent, dtype: object"
      ]
     },
     "execution_count": 15,
     "metadata": {},
     "output_type": "execute_result"
    }
   ],
   "source": [
    "countries.continent.distinct()"
   ]
  },
  {
   "cell_type": "markdown",
   "metadata": {},
   "source": [
    "This can be combined with `count` to form a reduction metric:"
   ]
  },
  {
   "cell_type": "code",
   "execution_count": 16,
   "metadata": {
    "execution": {
     "iopub.execute_input": "2021-11-03T19:57:58.458059Z",
     "iopub.status.busy": "2021-11-03T19:57:58.457125Z",
     "iopub.status.idle": "2021-11-03T19:57:58.464542Z",
     "shell.execute_reply": "2021-11-03T19:57:58.464980Z"
    }
   },
   "outputs": [
    {
     "data": {
      "text/plain": [
       "7"
      ]
     },
     "execution_count": 16,
     "metadata": {},
     "output_type": "execute_result"
    }
   ],
   "source": [
    "metric = (countries.continent\n",
    "          .distinct().count()\n",
    "          .name('num_continents'))\n",
    "metric"
   ]
  },
  {
   "cell_type": "markdown",
   "metadata": {},
   "source": [
    "This is common enough to have a shortcut `nunique`:"
   ]
  },
  {
   "cell_type": "code",
   "execution_count": 17,
   "metadata": {
    "execution": {
     "iopub.execute_input": "2021-11-03T19:57:58.472353Z",
     "iopub.status.busy": "2021-11-03T19:57:58.471717Z",
     "iopub.status.idle": "2021-11-03T19:57:58.477391Z",
     "shell.execute_reply": "2021-11-03T19:57:58.476897Z"
    }
   },
   "outputs": [
    {
     "data": {
      "text/plain": [
       "7"
      ]
     },
     "execution_count": 17,
     "metadata": {},
     "output_type": "execute_result"
    }
   ],
   "source": [
    "countries.continent.nunique()"
   ]
  },
  {
   "cell_type": "markdown",
   "metadata": {},
   "source": [
    "## String operations\n",
    "\n",
    "\n",
    "What's supported is pretty basic right now. We intend to support the full gamut of regular expression munging with a nice API, though in some cases some work will be required on SQLite's backend to support everything. "
   ]
  },
  {
   "cell_type": "code",
   "execution_count": 18,
   "metadata": {
    "execution": {
     "iopub.execute_input": "2021-11-03T19:57:58.483191Z",
     "iopub.status.busy": "2021-11-03T19:57:58.482599Z",
     "iopub.status.idle": "2021-11-03T19:57:58.491462Z",
     "shell.execute_reply": "2021-11-03T19:57:58.490792Z"
    }
   },
   "outputs": [
    {
     "data": {
      "text/plain": [
       "                   name\n",
       "0               Andorra\n",
       "1  United Arab Emirates\n",
       "2           Afghanistan\n",
       "3   Antigua and Barbuda\n",
       "4              Anguilla"
      ]
     },
     "execution_count": 18,
     "metadata": {},
     "output_type": "execute_result"
    }
   ],
   "source": [
    "countries[['name']].limit(5)"
   ]
  },
  {
   "cell_type": "markdown",
   "metadata": {},
   "source": [
    "At the moment, basic substring operations (`substr`, with conveniences `left` and `right`) and Python-like APIs such as `lower` and `upper` (for case normalization) are supported. So you could count first letter occurrences in a string column like so:"
   ]
  },
  {
   "cell_type": "code",
   "execution_count": 19,
   "metadata": {
    "execution": {
     "iopub.execute_input": "2021-11-03T19:57:58.502708Z",
     "iopub.status.busy": "2021-11-03T19:57:58.502110Z",
     "iopub.status.idle": "2021-11-03T19:57:58.509939Z",
     "shell.execute_reply": "2021-11-03T19:57:58.509452Z"
    }
   },
   "outputs": [
    {
     "data": {
      "text/plain": [
       "  first_letter  count\n",
       "0            s     34\n",
       "1            b     22\n",
       "2            m     22\n",
       "3            c     21\n",
       "4            g     16\n",
       "5            n     16\n",
       "6            a     15\n",
       "7            t     14\n",
       "8            p     12\n",
       "9            i     10"
      ]
     },
     "execution_count": 19,
     "metadata": {},
     "output_type": "execute_result"
    }
   ],
   "source": [
    "expr = countries.name.lower().left(1).name('first_letter')\n",
    "expr.value_counts().sort_by(('count', False)).limit(10)"
   ]
  },
  {
   "cell_type": "markdown",
   "metadata": {},
   "source": [
    "For fuzzy and regex filtering/searching, you can use one of the following\n",
    "\n",
    "- `like`, works as the SQL `LIKE` keyword\n",
    "- `rlike`, like `re.search` or SQL `RLIKE`\n",
    "- `contains`, like `x in str_value` in Python"
   ]
  },
  {
   "cell_type": "code",
   "execution_count": 20,
   "metadata": {
    "execution": {
     "iopub.execute_input": "2021-11-03T19:57:58.518429Z",
     "iopub.status.busy": "2021-11-03T19:57:58.517827Z",
     "iopub.status.idle": "2021-11-03T19:57:58.524877Z",
     "shell.execute_reply": "2021-11-03T19:57:58.524420Z"
    }
   },
   "outputs": [
    {
     "data": {
      "text/plain": [
       "0                                   Argentina\n",
       "1                                     Germany\n",
       "2                                     Algeria\n",
       "3                                     Georgia\n",
       "4    South Georgia and South Sandwich Islands\n",
       "5                                       Niger\n",
       "6                                     Nigeria\n",
       "Name: name, dtype: object"
      ]
     },
     "execution_count": 20,
     "metadata": {},
     "output_type": "execute_result"
    }
   ],
   "source": [
    "countries[countries.name.like('%GE%')].name"
   ]
  },
  {
   "cell_type": "code",
   "execution_count": 21,
   "metadata": {
    "execution": {
     "iopub.execute_input": "2021-11-03T19:57:58.533319Z",
     "iopub.status.busy": "2021-11-03T19:57:58.532240Z",
     "iopub.status.idle": "2021-11-03T19:57:58.541826Z",
     "shell.execute_reply": "2021-11-03T19:57:58.540975Z"
    }
   },
   "outputs": [
    {
     "data": {
      "text/plain": [
       "0                                   Argentina\n",
       "1                                     Germany\n",
       "2                                     Algeria\n",
       "3                                     Georgia\n",
       "4    South Georgia and South Sandwich Islands\n",
       "5                                       Niger\n",
       "6                                     Nigeria\n",
       "Name: name, dtype: object"
      ]
     },
     "execution_count": 21,
     "metadata": {},
     "output_type": "execute_result"
    }
   ],
   "source": [
    "countries[countries.name.lower().rlike('.*ge.*')].name"
   ]
  },
  {
   "cell_type": "code",
   "execution_count": 22,
   "metadata": {
    "execution": {
     "iopub.execute_input": "2021-11-03T19:57:58.550779Z",
     "iopub.status.busy": "2021-11-03T19:57:58.550169Z",
     "iopub.status.idle": "2021-11-03T19:57:58.558260Z",
     "shell.execute_reply": "2021-11-03T19:57:58.557792Z"
    }
   },
   "outputs": [
    {
     "data": {
      "text/plain": [
       "0                                   Argentina\n",
       "1                                     Germany\n",
       "2                                     Algeria\n",
       "3                                     Georgia\n",
       "4    South Georgia and South Sandwich Islands\n",
       "5                                       Niger\n",
       "6                                     Nigeria\n",
       "Name: name, dtype: object"
      ]
     },
     "execution_count": 22,
     "metadata": {},
     "output_type": "execute_result"
    }
   ],
   "source": [
    "countries[countries.name.lower().contains('ge')].name"
   ]
  },
  {
   "cell_type": "markdown",
   "metadata": {},
   "source": [
    "## Timestamp operations\n",
    "\n",
    "\n",
    "Date and time functionality is relatively limited at present compared with pandas, but we'll get there. The main things we have right now are\n",
    "\n",
    "- Field access (year, month, day, ...)\n",
    "- Timedeltas\n",
    "- Comparisons with fixed timestamps"
   ]
  },
  {
   "cell_type": "code",
   "execution_count": 23,
   "metadata": {
    "execution": {
     "iopub.execute_input": "2021-11-03T19:57:58.565545Z",
     "iopub.status.busy": "2021-11-03T19:57:58.563745Z",
     "iopub.status.idle": "2021-11-03T19:57:58.577844Z",
     "shell.execute_reply": "2021-11-03T19:57:58.578289Z"
    }
   },
   "outputs": [
    {
     "data": {
      "text/plain": [
       "  independence_date  month\n",
       "0        1919-08-19      8\n",
       "1        1912-11-28     11\n",
       "2        1962-07-05      7\n",
       "3        1975-11-11     11\n",
       "4        1981-11-01     11\n",
       "5        1816-07-09      7\n",
       "6        1918-05-28      5\n",
       "7        1991-09-21      9\n",
       "8        1955-10-26     10\n",
       "9        1918-05-28      5"
      ]
     },
     "execution_count": 23,
     "metadata": {},
     "output_type": "execute_result"
    }
   ],
   "source": [
    "independence = connection.table('independence')\n",
    "\n",
    "independence[independence.independence_date, independence.independence_date.month().name('month')].limit(10)"
   ]
  },
  {
   "cell_type": "markdown",
   "metadata": {},
   "source": [
    "Somewhat more comprehensively"
   ]
  },
  {
   "cell_type": "code",
   "execution_count": 24,
   "metadata": {
    "execution": {
     "iopub.execute_input": "2021-11-03T19:57:58.586693Z",
     "iopub.status.busy": "2021-11-03T19:57:58.585931Z",
     "iopub.status.idle": "2021-11-03T19:57:58.597076Z",
     "shell.execute_reply": "2021-11-03T19:57:58.596341Z"
    }
   },
   "outputs": [
    {
     "data": {
      "text/plain": [
       "  independence_date  year  month  day\n",
       "0        1919-08-19  1919      8   19\n",
       "1        1912-11-28  1912     11   28\n",
       "2        1962-07-05  1962      7    5\n",
       "3        1975-11-11  1975     11   11\n",
       "4        1981-11-01  1981     11    1\n",
       "5        1816-07-09  1816      7    9\n",
       "6        1918-05-28  1918      5   28\n",
       "7        1991-09-21  1991      9   21\n",
       "8        1955-10-26  1955     10   26\n",
       "9        1918-05-28  1918      5   28"
      ]
     },
     "execution_count": 24,
     "metadata": {},
     "output_type": "execute_result"
    }
   ],
   "source": [
    "def get_field(f):\n",
    "    return getattr(independence.independence_date, f)().name(f)\n",
    "\n",
    "fields = ['year', 'month', 'day']  # datetime fields can also use: 'hour', 'minute', 'second', 'millisecond'\n",
    "projection = [independence.independence_date] + [get_field(x) for x in fields]\n",
    "independence[projection].limit(10)"
   ]
  },
  {
   "cell_type": "markdown",
   "metadata": {},
   "source": [
    "For timestamp arithmetic and comparisons, check out functions in the top level `ibis` namespace. This include things like `day` and `second`, but also the `ibis.timestamp` function:"
   ]
  },
  {
   "cell_type": "code",
   "execution_count": 25,
   "metadata": {
    "execution": {
     "iopub.execute_input": "2021-11-03T19:57:58.605921Z",
     "iopub.status.busy": "2021-11-03T19:57:58.605388Z",
     "iopub.status.idle": "2021-11-03T19:57:58.615212Z",
     "shell.execute_reply": "2021-11-03T19:57:58.614436Z"
    }
   },
   "outputs": [
    {
     "data": {
      "text/plain": [
       "          min        max  nrows\n",
       "0  1291-08-01 2011-07-09    186"
      ]
     },
     "execution_count": 25,
     "metadata": {},
     "output_type": "execute_result"
    }
   ],
   "source": [
    "independence[independence.independence_date.min(),\n",
    "             independence.independence_date.max(),\n",
    "             independence.count().name('nrows')].distinct()"
   ]
  },
  {
   "cell_type": "code",
   "execution_count": 26,
   "metadata": {
    "execution": {
     "iopub.execute_input": "2021-11-03T19:57:58.621226Z",
     "iopub.status.busy": "2021-11-03T19:57:58.620697Z",
     "iopub.status.idle": "2021-11-03T19:57:58.626753Z",
     "shell.execute_reply": "2021-11-03T19:57:58.627168Z"
    }
   },
   "outputs": [
    {
     "data": {
      "text/plain": [
       "3"
      ]
     },
     "execution_count": 26,
     "metadata": {},
     "output_type": "execute_result"
    }
   ],
   "source": [
    "independence[independence.independence_date > '2000-01-01'].count()"
   ]
  },
  {
   "cell_type": "markdown",
   "metadata": {},
   "source": [
    "Some backends support adding offsets, for example `independence.independence_date + ibis.interval(days=1)` or `ibis.now() - independence.independence_date`."
   ]
  }
 ],
 "metadata": {
  "kernelspec": {
   "display_name": "Python 3",
   "language": "python",
   "name": "python3"
  },
  "language_info": {
   "codemirror_mode": {
    "name": "ipython",
    "version": 3
   },
   "file_extension": ".py",
   "mimetype": "text/x-python",
   "name": "python",
   "nbconvert_exporter": "python",
   "pygments_lexer": "ipython3",
   "version": "3.9.7"
  }
 },
 "nbformat": 4,
 "nbformat_minor": 4
}
